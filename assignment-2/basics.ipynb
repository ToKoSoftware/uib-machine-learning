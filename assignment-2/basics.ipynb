{
 "cells": [
  {
   "cell_type": "code",
   "execution_count": 1,
   "outputs": [
    {
     "data": {
      "text/plain": "<module 'src.util' from '/Users/tomas/PycharmProjects/uib-machine-learning/assignment-2/src/util.py'>"
     },
     "execution_count": 1,
     "metadata": {},
     "output_type": "execute_result"
    }
   ],
   "source": [
    "import numpy as np\n",
    "\n",
    "import src.util as utils\n",
    "import importlib\n",
    "importlib.reload(utils)"
   ],
   "metadata": {
    "collapsed": false,
    "ExecuteTime": {
     "end_time": "2023-10-17T17:31:36.983086Z",
     "start_time": "2023-10-17T17:31:36.006216Z"
    }
   },
   "id": "cb21033276e6f6d0"
  },
  {
   "cell_type": "code",
   "execution_count": 2,
   "outputs": [],
   "source": [
    "X = np.load(\"./data/emnist_hex_images.npy\")\n",
    "y = np.load(\"./data/emnist_hex_labels.npy\")"
   ],
   "metadata": {
    "collapsed": false,
    "ExecuteTime": {
     "end_time": "2023-10-17T17:31:37.192554Z",
     "start_time": "2023-10-17T17:31:37.148228Z"
    }
   },
   "id": "ad41f8d16114f10f"
  },
  {
   "cell_type": "code",
   "execution_count": 5,
   "id": "initial_id",
   "metadata": {
    "collapsed": true,
    "ExecuteTime": {
     "end_time": "2023-10-17T17:31:57.967978Z",
     "start_time": "2023-10-17T17:31:57.888910Z"
    }
   },
   "outputs": [
    {
     "data": {
      "text/plain": "<Figure size 640x480 with 1 Axes>",
      "image/png": "[encoded data removed]"
     },
     "metadata": {},
     "output_type": "display_data"
    },
    {
     "name": "stdout",
     "output_type": "stream",
     "text": [
      "0\n"
     ]
    }
   ],
   "source": [
    "utils.visualize_image(X[5])\n",
    "print(y[4])"
   ]
  },
  {
   "cell_type": "code",
   "execution_count": 7,
   "outputs": [
    {
     "data": {
      "text/plain": "'1'"
     },
     "execution_count": 7,
     "metadata": {},
     "output_type": "execute_result"
    }
   ],
   "source": [
    "utils.translate_label_to_class(y[5])"
   ],
   "metadata": {
    "collapsed": false,
    "ExecuteTime": {
     "end_time": "2023-10-17T17:32:15.196666Z",
     "start_time": "2023-10-17T17:32:15.184347Z"
    }
   },
   "id": "a22a616320e1a8bc"
  },
  {
   "cell_type": "code",
   "execution_count": 8,
   "outputs": [
    {
     "name": "stdout",
     "output_type": "stream",
     "text": [
      "Expected average occurence of one symbol: 6341 | in %: 5.9%\n",
      "0 occurs 7407 times | Average: 6.9%\n",
      "1 occurs 7642 times | Average: 7.1%\n",
      "2 occurs 7371 times | Average: 6.8%\n",
      "3 occurs 7397 times | Average: 6.9%\n",
      "4 occurs 7397 times | Average: 6.9%\n",
      "5 occurs 7220 times | Average: 6.7%\n",
      "6 occurs 7382 times | Average: 6.8%\n",
      "7 occurs 7451 times | Average: 6.9%\n",
      "8 occurs 7327 times | Average: 6.8%\n",
      "9 occurs 7374 times | Average: 6.8%\n",
      "a occurs 6022 times | Average: 5.6%\n",
      "b occurs 3878 times | Average: 3.6%\n",
      "c occurs 6198 times | Average: 5.7%\n",
      "d occurs 4562 times | Average: 4.2%\n",
      "e occurs 1337 times | Average: 1.2%\n",
      "f occurs 6159 times | Average: 5.7%\n",
      "Empty occurs 5678 times | Average: 5.7%\n"
     ]
    }
   ],
   "source": [
    "# Inspection of Label Occurences for Dataset inspection\n",
    "unique_values, counts = np.unique(y, return_counts=True)\n",
    "expected_occurence =  y.size / counts.size \n",
    "print('Expected average occurence of one symbol: ' + str(int(expected_occurence)) + \" | in %: \" + str(\"{:.1%}\".format(float(expected_occurence / y.size))))\n",
    "# Print the results\n",
    "for value, count in zip(unique_values, counts):\n",
    "    if value < 10:\n",
    "        percentage_occurence = \"{:.1%}\".format(float(count / y.size))\n",
    "        print(f\"{value} occurs {count} times\" + \" | Average: \" + percentage_occurence)\n",
    "    elif (value >= 10) & (value < 16):\n",
    "        percentage_occurence = \"{:.1%}\".format(float(count / y.size))\n",
    "        char_value = chr(ord('a') + value - 10)  # Convert value to corresponding ASCII character\n",
    "        print(f\"{char_value} occurs {count} times\" \" | Average: \" + percentage_occurence)\n",
    "    else:\n",
    "        print(\"Empty occurs \" + str(count) + \" times\" + \" | Average: \" + percentage_occurence)"
   ],
   "metadata": {
    "collapsed": false,
    "ExecuteTime": {
     "end_time": "2023-10-20T09:39:27.901669Z",
     "start_time": "2023-10-20T09:39:27.855657Z"
    }
   },
   "id": "36c778feccfb35a9"
  },
  {
   "cell_type": "code",
   "execution_count": null,
   "outputs": [],
   "source": [],
   "metadata": {
    "collapsed": false
   },
   "id": "c552cc2fa622bc39"
  }
 ],
 "metadata": {
  "kernelspec": {
   "display_name": "Python 3",
   "language": "python",
   "name": "python3"
  },
  "language_info": {
   "codemirror_mode": {
    "name": "ipython",
    "version": 2
   },
   "file_extension": ".py",
   "mimetype": "text/x-python",
   "name": "python",
   "nbconvert_exporter": "python",
   "pygments_lexer": "ipython2",
   "version": "2.7.6"
  }
 },
 "nbformat": 4,
 "nbformat_minor": 5
}
