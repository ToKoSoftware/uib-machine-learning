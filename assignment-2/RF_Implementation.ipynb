{
 "cells": [
  {
   "cell_type": "code",
   "execution_count": 2,
   "id": "01d1c298",
   "metadata": {},
   "outputs": [
    {
     "data": {
      "text/plain": [
       "<module 'src.util' from 'c:\\\\Users\\\\marwi\\\\OneDrive - Universität Potsdam\\\\Intro_to_ML\\\\Assignment 02\\\\uib-machine-learning\\\\assignment-2\\\\src\\\\util.py'>"
      ]
     },
     "execution_count": 2,
     "metadata": {},
     "output_type": "execute_result"
    }
   ],
   "source": [
    "import numpy as np\n",
    "from sklearn.model_selection import train_test_split\n",
    "from tqdm import tqdm  # Import tqdm for the progress bar\n",
    "from sklearn.svm import SVC\n",
    "from sklearn import metrics\n",
    "from sklearn.metrics import accuracy_score, classification_report\n",
    "import matplotlib.pyplot as plt\n",
    "\n",
    "import src.util as utils\n",
    "import importlib\n",
    "importlib.reload(utils)"
   ]
  },
  {
   "cell_type": "code",
   "execution_count": 3,
   "id": "36ab3309",
   "metadata": {},
   "outputs": [],
   "source": [
    "X = np.load(\"./data/emnist_hex_images.npy\")\n",
    "y = np.load(\"./data/emnist_hex_labels.npy\")"
   ]
  },
  {
   "cell_type": "code",
   "execution_count": 4,
   "id": "ad0b965e",
   "metadata": {},
   "outputs": [],
   "source": [
    "# Define the desired maximum instances per class\n",
    "max_instances_per_class = 1000\n",
    "\n",
    "# Initialize lists to store downsampled data\n",
    "downsampled_X = []\n",
    "downsampled_y = []\n",
    "# Iterate through unique classes\n",
    "unique_classes = np.unique(y)\n",
    "for class_label in unique_classes:\n",
    "    # Get indices of instances for this class\n",
    "    class_indices = np.where(y == class_label)[0]\n",
    "\n",
    "    # Randomly select up to max_instances_per_class instances for this class\n",
    "    if len(class_indices) > max_instances_per_class:\n",
    "        selected_indices = np.random.choice(class_indices, max_instances_per_class, replace=False)\n",
    "    else:\n",
    "        selected_indices = class_indices\n",
    "\n",
    "    # Append the selected instances to the downsampled data\n",
    "    downsampled_X.extend(X[selected_indices])\n",
    "    downsampled_y.extend(y[selected_indices])\n",
    "\n",
    "# Convert the downsampled data to NumPy arrays\n",
    "downsampled_X = np.array(downsampled_X)\n",
    "downsampled_y = np.array(downsampled_y)\n",
    "\n",
    "# Shuffle the downsampled data\n",
    "shuffle_indices = np.random.permutation(len(downsampled_X))\n",
    "downsampled_X = downsampled_X[shuffle_indices]\n",
    "downsampled_y = downsampled_y[shuffle_indices]\n",
    "\n",
    "# Print the counts for each class in the downsampled dataset\n",
    "unique_classes_downsampled, class_counts_downsampled = np.unique(downsampled_y, return_counts=True)\n",
    "#for class_label, class_count in zip(unique_classes_downsampled, class_counts_downsampled):\n",
    "   # print(f\"Class {class_label}: {class_count} instances in the downsampled dataset.\")"
   ]
  },
  {
   "cell_type": "code",
   "execution_count": 5,
   "id": "5516c308",
   "metadata": {},
   "outputs": [
    {
     "name": "stdout",
     "output_type": "stream",
     "text": [
      "Expected average occurence of one symbol: 6341 | in %: 5.9%\n",
      "0 occurs 7407 times | Average: 6.9%\n",
      "1 occurs 7642 times | Average: 7.1%\n",
      "2 occurs 7371 times | Average: 6.8%\n",
      "3 occurs 7397 times | Average: 6.9%\n",
      "4 occurs 7397 times | Average: 6.9%\n",
      "5 occurs 7220 times | Average: 6.7%\n",
      "6 occurs 7382 times | Average: 6.8%\n",
      "7 occurs 7451 times | Average: 6.9%\n",
      "8 occurs 7327 times | Average: 6.8%\n",
      "9 occurs 7374 times | Average: 6.8%\n",
      "a occurs 6022 times | Average: 5.6%\n",
      "b occurs 3878 times | Average: 3.6%\n",
      "c occurs 6198 times | Average: 5.7%\n",
      "d occurs 4562 times | Average: 4.2%\n",
      "e occurs 1337 times | Average: 1.2%\n",
      "f occurs 6159 times | Average: 5.7%\n",
      "Empty occurs 5678 times | Average: 5.7%\n"
     ]
    }
   ],
   "source": [
    "# Inspection of Label Occurences for Dataset inspection\n",
    "unique_values, counts = np.unique(y, return_counts=True)\n",
    "expected_occurence =  y.size / counts.size \n",
    "print('Expected average occurence of one symbol: ' + str(int(expected_occurence)) + \" | in %: \" + str(\"{:.1%}\".format(float(expected_occurence / y.size))))\n",
    "# Print the results\n",
    "for value, count in zip(unique_values, counts):\n",
    "    if value < 10:\n",
    "        percentage_occurence = \"{:.1%}\".format(float(count / y.size))\n",
    "        print(f\"{value} occurs {count} times\" + \" | Average: \" + percentage_occurence)\n",
    "    elif (value >= 10) & (value < 16):\n",
    "        percentage_occurence = \"{:.1%}\".format(float(count / y.size))\n",
    "        char_value = chr(ord('a') + value - 10)  # Convert value to corresponding ASCII character\n",
    "        print(f\"{char_value} occurs {count} times\" \" | Average: \" + percentage_occurence)\n",
    "    else:\n",
    "        print(\"Empty occurs \" + str(count) + \" times\" + \" | Average: \" + percentage_occurence)"
   ]
  },
  {
   "cell_type": "code",
   "execution_count": 7,
   "id": "352f816a",
   "metadata": {},
   "outputs": [],
   "source": [
    "# Sample a smaller portion of the data (e.g., 10,000 samples)\n",
    "# Ideal sample size Sample linear model -> sample_size = 8700 -> 88,5%\n",
    "# Ideal sample size Sample linear model (balanced data set) -> sample_size = 1000 -> 84-87%\n",
    "sample_size = 10000\n",
    "X_sampled, _, y_sampled, _ = train_test_split(downsampled_X, downsampled_y, train_size=sample_size, stratify=downsampled_y, random_state=42)\n",
    "\n",
    "# Preprocessing step: Flattening of images to a 1D Array\n",
    "X_flattened = X_sampled.reshape(X_sampled.shape[0], -1)\n",
    "\n",
    "# Split the data into training, validation, and testing sets\n",
    "X_train, X_temp, y_train, y_temp = train_test_split(X_flattened, y_sampled, test_size=0.3, random_state=42)\n",
    "X_val, X_test, y_val, y_test = train_test_split(X_temp, y_temp, test_size=0.5, random_state=42)"
   ]
  },
  {
   "cell_type": "code",
   "execution_count": null,
   "id": "afb6d6b9",
   "metadata": {},
   "outputs": [],
   "source": [
    "from sklearn.ensemble import RandomForestClassifier\n",
    "from sklearn.model_selection import GridSearchCV\n",
    "\n",
    "# Finding best hyperparameter combination for Random Forest Model with GridSearch\n",
    "param_grid = {\n",
    "    'n_estimators': [50, 100, 200],\n",
    "    'max_depth': [None, 10, 20],\n",
    "}\n",
    "randomForest_model = RandomForestClassifier()\n",
    "# Performing a grid search in order to find the best combination of hyperparameters for model outcome\n",
    "grid_search = GridSearchCV(estimator=randomForest_model, param_grid=param_grid, cv=3, n_jobs=-1, verbose=2)\n",
    "grid_search.fit(X_train, y_train)\n",
    "print(\"Best Parameters:\", grid_search.best_params_)\n",
    "\n"
   ]
  },
  {
   "cell_type": "code",
   "execution_count": 11,
   "id": "b5550337",
   "metadata": {},
   "outputs": [
    {
     "name": "stdout",
     "output_type": "stream",
     "text": [
      "Random Forest Validation Accuracy:  0.882\n"
     ]
    },
    {
     "data": {
      "image/png": "[encoded data removed]",
      "text/plain": [
       "<Figure size 1000x1000 with 2 Axes>"
      ]
     },
     "metadata": {},
     "output_type": "display_data"
    }
   ],
   "source": [
    "from sklearn.ensemble import RandomForestClassifier\n",
    "\n",
    "# Create and train a Random Forest Classifier\n",
    "rf_model = RandomForestClassifier(n_estimators=200, max_depth=20, random_state=42)\n",
    "rf_model.fit(X_train, y_train)\n",
    "\n",
    "# Predictions on validation data\n",
    "rf_prediction = rf_model.predict(X_val)\n",
    "\n",
    "# Evaluate the model\n",
    "rf_val_accuracy = accuracy_score(y_val, rf_prediction)\n",
    "rf_val_classification_report = classification_report(y_val, rf_prediction)\n",
    "\n",
    "# Print validation evaluation results for Random Forest\n",
    "print(\"Random Forest Validation Accuracy: \", rf_val_accuracy)\n",
    "#print(\"Random Forest Validation Classification Report: \")\n",
    "#print(rf_val_classification_report)\n",
    "\n",
    "# Create a confusion matrix for Random Forest\n",
    "rf_cm = metrics.confusion_matrix(y_val, rf_prediction)\n",
    "\n",
    "# Plot the confusion matrix for Random Forest\n",
    "plt.figure(figsize=(10, 10))\n",
    "labels_rf = np.unique(y_val)\n",
    "tick_marks_rf = np.arange(len(labels_rf))\n",
    "plt.tight_layout()\n",
    "plt.ylabel('True label')\n",
    "plt.xlabel('Predicted label')\n",
    "plt.imshow(rf_cm, interpolation='nearest', cmap=plt.cm.tab20)\n",
    "plt.colorbar()\n",
    "_ = plt.xticks(tick_marks_rf, labels_rf, rotation=90)\n",
    "_ = plt.yticks(tick_marks_rf, labels_rf)\n",
    "plt.title('Confusion Matrix for Random Forest')\n",
    "plt.savefig(\"confusion_matrix_rf.png\", dpi=300)\n",
    "plt.show()\n"
   ]
  }
 ],
 "metadata": {
  "kernelspec": {
   "display_name": "Python 3",
   "language": "python",
   "name": "python3"
  },
  "language_info": {
   "codemirror_mode": {
    "name": "ipython",
    "version": 3
   },
   "file_extension": ".py",
   "mimetype": "text/x-python",
   "name": "python",
   "nbconvert_exporter": "python",
   "pygments_lexer": "ipython3",
   "version": "3.10.11"
  }
 },
 "nbformat": 4,
 "nbformat_minor": 5
}
