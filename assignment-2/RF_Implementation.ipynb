{
 "cells": [
  {
   "cell_type": "code",
   "execution_count": 13,
   "id": "01d1c298",
   "metadata": {
    "ExecuteTime": {
     "end_time": "2023-10-20T11:03:39.831080Z",
     "start_time": "2023-10-20T11:03:39.813163Z"
    }
   },
   "outputs": [
    {
     "data": {
      "text/plain": [
       "<module 'src.util' from 'c:\\\\Users\\\\marwi\\\\OneDrive - Universität Potsdam\\\\Intro_to_ML\\\\temp\\\\uib-machine-learning\\\\assignment-2\\\\src\\\\util.py'>"
      ]
     },
     "execution_count": 13,
     "metadata": {},
     "output_type": "execute_result"
    }
   ],
   "source": [
    "import numpy as np\n",
    "from sklearn.model_selection import train_test_split\n",
    "from sklearn import metrics\n",
    "from sklearn.metrics import accuracy_score\n",
    "import matplotlib.pyplot as plt\n",
    "from sklearn.ensemble import RandomForestClassifier\n",
    "from sklearn.model_selection import GridSearchCV\n",
    "import src.util as utils\n",
    "\n",
    "import importlib\n",
    "importlib.reload(utils)"
   ]
  },
  {
   "cell_type": "code",
   "execution_count": 2,
   "id": "36ab3309",
   "metadata": {
    "ExecuteTime": {
     "end_time": "2023-10-20T11:03:40.926502Z",
     "start_time": "2023-10-20T11:03:40.891158Z"
    }
   },
   "outputs": [],
   "source": [
    "# Loading the given data files\n",
    "X = np.load(\"./data/emnist_hex_images.npy\")\n",
    "y = np.load(\"./data/emnist_hex_labels.npy\")"
   ]
  },
  {
   "cell_type": "code",
   "execution_count": 3,
   "id": "ad0b965e",
   "metadata": {
    "ExecuteTime": {
     "end_time": "2023-10-20T11:03:41.724811Z",
     "start_time": "2023-10-20T11:03:41.699712Z"
    }
   },
   "outputs": [],
   "source": [
    "# Preprocessing step: Calling downsampling method from utils file in order to create a dataset with a equal amout of classes\n",
    "downsampled_X, downsampled_y, unique_classes_downsampled, class_counts_downsampled = utils.downsampling(X, y)"
   ]
  },
  {
   "cell_type": "code",
   "execution_count": 4,
   "id": "352f816a",
   "metadata": {
    "ExecuteTime": {
     "end_time": "2023-10-20T11:03:42.816290Z",
     "start_time": "2023-10-20T11:03:42.800334Z"
    }
   },
   "outputs": [],
   "source": [
    "# Splitting of Dataset\n",
    "X_sampled, _, y_sampled, _ = train_test_split(downsampled_X, downsampled_y, stratify=downsampled_y, random_state=42)\n",
    "\n",
    "# Preprocessing step: Flattening of images to a 1D Array\n",
    "X_flattened = X_sampled.reshape(X_sampled.shape[0], -1)\n",
    "\n",
    "# Split the data into training, validation, and testing sets\n",
    "X_train, X_temp, y_train, y_temp = train_test_split(X_flattened, y_sampled, test_size=0.3, random_state=42)\n",
    "X_val, X_test, y_val, y_test = train_test_split(X_temp, y_temp, test_size=0.5, random_state=42)"
   ]
  },
  {
   "cell_type": "code",
   "execution_count": 5,
   "id": "afb6d6b9",
   "metadata": {},
   "outputs": [
    {
     "name": "stdout",
     "output_type": "stream",
     "text": [
      "Fitting 3 folds for each of 9 candidates, totalling 27 fits\n",
      "Best Parameters: {'max_depth': None, 'n_estimators': 200}\n"
     ]
    }
   ],
   "source": [
    "# Finding the best hyperparameter combination for Random Forest Model with GridSearch\n",
    "param_grid = {\n",
    "    'n_estimators': [50, 100, 200],\n",
    "    'max_depth': [None, 10, 20],\n",
    "}\n",
    "randomForest_model = RandomForestClassifier()\n",
    "# Performing a grid search in order to find the best combination of hyperparameters for model outcome\n",
    "grid_search = GridSearchCV(estimator=randomForest_model, param_grid=param_grid, cv=3, n_jobs=-1, verbose=2)\n",
    "grid_search.fit(X_train, y_train)\n",
    "print(\"Best Parameters:\", grid_search.best_params_)\n",
    "\n"
   ]
  },
  {
   "cell_type": "code",
   "execution_count": 6,
   "id": "b5550337",
   "metadata": {
    "ExecuteTime": {
     "end_time": "2023-10-20T11:03:57.249407Z",
     "start_time": "2023-10-20T11:03:45.347898Z"
    }
   },
   "outputs": [
    {
     "name": "stdout",
     "output_type": "stream",
     "text": [
      "Cross-Validation Fold 1: Accuracy = 0.8807\n",
      "Cross-Validation Fold 2: Accuracy = 0.8863\n",
      "Cross-Validation Fold 3: Accuracy = 0.8745\n",
      "Cross-Validation Fold 4: Accuracy = 0.8695\n",
      "Cross-Validation Fold 5: Accuracy = 0.8739\n",
      "Mean Accuracy: 0.8770\n",
      "Standard Deviation: 0.0059\n",
      "Random Forest Validation Accuracy:  0.8802301255230126\n"
     ]
    }
   ],
   "source": [
    "# Random Forest Model training and Cross Validation\n",
    "\n",
    "# Create and train a Random Forest Classifier\n",
    "rf_model = RandomForestClassifier(n_estimators=200, max_depth=20, random_state=42)\n",
    "rf_model.fit(X_train, y_train)\n",
    "\n",
    "# Define the number of folds for cross-validation\n",
    "num_folds = 5  # You can adjust this number as needed\n",
    "\n",
    "# Create a K-Fold cross-validation object\n",
    "kf = KFold(n_splits=num_folds, shuffle=True, random_state=42)\n",
    "\n",
    "# Perform cross-validation and calculate accuracy for each fold\n",
    "cross_val_scores = cross_val_score(rf_model, X_train, y_train, cv=kf, scoring='accuracy')\n",
    "\n",
    "# Print the accuracy scores for each fold\n",
    "for fold, score in enumerate(cross_val_scores, start=1):\n",
    "    print(f'Cross-Validation Fold {fold}: Accuracy = {score:.4f}')\n",
    "\n",
    "# Calculate the mean and standard deviation of the accuracy scores\n",
    "mean_accuracy = cross_val_scores.mean()\n",
    "std_deviation = cross_val_scores.std()\n",
    "\n",
    "# Print the mean and standard deviation of accuracy\n",
    "print(f'Mean Accuracy: {mean_accuracy:.4f}')\n",
    "print(f'Standard Deviation: {std_deviation:.4f}')\n",
    "\n",
    "# Predictions on validation data\n",
    "rf_prediction = rf_model.predict(X_val)\n",
    "\n",
    "# Evaluate the model\n",
    "rf_val_accuracy = accuracy_score(y_val, rf_prediction)\n",
    "\n",
    "# Print validation evaluation results for Random Forest\n",
    "print(\"Random Forest Validation Accuracy: \", rf_val_accuracy)"
   ]
  },
  {
   "cell_type": "code",
   "execution_count": 16,
   "id": "d5114e5f",
   "metadata": {},
   "outputs": [
    {
     "data": {
      "image/png": "[encoded data removed]",
      "text/plain": [
       "<Figure size 1000x1000 with 2 Axes>"
      ]
     },
     "metadata": {},
     "output_type": "display_data"
    }
   ],
   "source": [
    "# Create a confusion matrix for Random Forest\n",
    "rf_cm = metrics.confusion_matrix(y_val, rf_prediction)\n",
    "utils.generate_confusion_matrix(rf_cm, \"confusion_matrix_RF\", y_val)\n",
    "# Plot the confusion matrix for Random Forest\n"
   ]
  },
  {
   "cell_type": "code",
   "execution_count": null,
   "id": "85325969864982f6",
   "metadata": {
    "collapsed": false
   },
   "outputs": [],
   "source": []
  }
 ],
 "metadata": {
  "kernelspec": {
   "display_name": "Python 3",
   "language": "python",
   "name": "python3"
  },
  "language_info": {
   "codemirror_mode": {
    "name": "ipython",
    "version": 3
   },
   "file_extension": ".py",
   "mimetype": "text/x-python",
   "name": "python",
   "nbconvert_exporter": "python",
   "pygments_lexer": "ipython3",
   "version": "3.10.11"
  }
 },
 "nbformat": 4,
 "nbformat_minor": 5
}
