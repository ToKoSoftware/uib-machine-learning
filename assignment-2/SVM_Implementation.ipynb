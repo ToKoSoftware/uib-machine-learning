{
 "cells": [
  {
   "cell_type": "code",
   "execution_count": 25,
   "id": "d5b0c0996883042c",
   "metadata": {
    "ExecuteTime": {
     "end_time": "2023-10-20T09:43:57.244791Z",
     "start_time": "2023-10-20T09:43:57.234374Z"
    },
    "collapsed": true
   },
   "outputs": [
    {
     "data": {
      "text/plain": [
       "<module 'src.util' from 'c:\\\\Users\\\\marwi\\\\OneDrive - Universität Potsdam\\\\Intro_to_ML\\\\temp\\\\uib-machine-learning\\\\assignment-2\\\\src\\\\util.py'>"
      ]
     },
     "execution_count": 25,
     "metadata": {},
     "output_type": "execute_result"
    }
   ],
   "source": [
    "# Importing needed libaries\n",
    "import numpy as np\n",
    "from sklearn.model_selection import train_test_split\n",
    "from sklearn.svm import SVC\n",
    "from sklearn import metrics\n",
    "from sklearn.metrics import accuracy_score\n",
    "import matplotlib.pyplot as plt\n",
    "from sklearn.model_selection import GridSearchCV\n",
    "from sklearn.model_selection import cross_val_score, KFold\n",
    "import src.util as utils\n",
    "import importlib\n",
    "importlib.reload(utils)"
   ]
  },
  {
   "cell_type": "code",
   "execution_count": 2,
   "id": "initial_id",
   "metadata": {
    "ExecuteTime": {
     "end_time": "2023-10-20T09:43:58.716397Z",
     "start_time": "2023-10-20T09:43:58.676983Z"
    },
    "collapsed": false
   },
   "outputs": [],
   "source": [
    "# Loading the given data files\n",
    "X = np.load(\"./data/emnist_hex_images.npy\")\n",
    "y = np.load(\"./data/emnist_hex_labels.npy\")"
   ]
  },
  {
   "cell_type": "code",
   "execution_count": 3,
   "id": "629d5bd8",
   "metadata": {
    "ExecuteTime": {
     "end_time": "2023-10-20T09:43:59.613869Z",
     "start_time": "2023-10-20T09:43:59.571192Z"
    }
   },
   "outputs": [],
   "source": [
    "# Preprocessing step: Calling downsampling method from utils file in order to create a dataset with a equal amout of classes\n",
    "downsampled_X, downsampled_y, unique_classes_downsampled, class_counts_downsampled = utils.downsampling(X, y)"
   ]
  },
  {
   "cell_type": "code",
   "execution_count": 4,
   "id": "a403a640",
   "metadata": {
    "ExecuteTime": {
     "end_time": "2023-10-20T09:47:05.444345Z",
     "start_time": "2023-10-20T09:47:05.416313Z"
    }
   },
   "outputs": [],
   "source": [
    "# Splitting of Dataset\n",
    "X_sampled, _, y_sampled, _ = train_test_split(downsampled_X, downsampled_y, stratify=downsampled_y, random_state=42)\n",
    "\n",
    "# Preprocessing step: Flattening of images to a 1D Array\n",
    "X_flattened = X_sampled.reshape(X_sampled.shape[0], -1)\n",
    "\n",
    "# Split the data into training, validation, and testing sets\n",
    "X_train, X_temp, y_train, y_temp = train_test_split(X_flattened, y_sampled, test_size=0.3, random_state=42)\n",
    "X_val, X_test, y_val, y_test = train_test_split(X_temp, y_temp, test_size=0.5, random_state=42)"
   ]
  },
  {
   "cell_type": "code",
   "execution_count": 5,
   "id": "6a8e2a6e",
   "metadata": {},
   "outputs": [
    {
     "name": "stdout",
     "output_type": "stream",
     "text": [
      "Fitting 3 folds for each of 1 candidates, totalling 3 fits\n",
      "Fitting 3 folds for each of 12 candidates, totalling 36 fits\n",
      "Fitting 3 folds for each of 8 candidates, totalling 24 fits\n",
      "Fitting 3 folds for each of 12 candidates, totalling 36 fits\n",
      "Variant 1 - Best Parameters: {'kernel': 'linear'}\n",
      "Variant 1 - Best Score: 0.8587114845938375\n",
      "Variant 2 - Best Parameters: {'coef0': 1.0, 'degree': 4, 'gamma': 'scale', 'kernel': 'poly'}\n",
      "Variant 2 - Best Score: 0.9102521008403363\n",
      "Variant 3 - Best Parameters: {'gamma': 0.001, 'kernel': 'rbf'}\n",
      "Variant 3 - Best Score: 0.0880672268907563\n",
      "Variant 4 - Best Parameters: {'coef0': 0.0, 'degree': 2, 'gamma': 0.01, 'kernel': 'sigmoid'}\n",
      "Variant 4 - Best Score: 0.06084033613445378\n"
     ]
    }
   ],
   "source": [
    "# Finding the best hyperparameter variants for the Support Vector machine\n",
    "\n",
    "# Define parameter grids for the different variants\n",
    "param_grid_linear = {\n",
    "    'kernel': ['linear']\n",
    "}\n",
    "\n",
    "param_grid_poly = {\n",
    "    'kernel': ['poly'],\n",
    "    'degree': [2, 3, 4],\n",
    "    'gamma': ['auto', 'scale'],\n",
    "    'coef0': [0.0, 1.0]\n",
    "}\n",
    "\n",
    "param_grid_rbf = {\n",
    "    'kernel': ['rbf'],\n",
    "    'gamma': [0.1, 0.01, 1.0, 0.001, 0.0001, 0.25, 0.5, 0.75]\n",
    "}\n",
    "\n",
    "param_grid_sigmoid = {\n",
    "    'kernel': ['sigmoid'],\n",
    "    'degree': [2],\n",
    "    'gamma': [0.01, 0.1, 0.3, 1.0],\n",
    "    'coef0': [0.0, 0.5, 1.0]\n",
    "}\n",
    "\n",
    "# List of parameter grids\n",
    "param_grids = [param_grid_linear, param_grid_poly, param_grid_rbf, param_grid_sigmoid]\n",
    "\n",
    "# Lists to store the best parameters and scores for each variant\n",
    "best_parameters = {}\n",
    "best_scores = {}\n",
    "\n",
    "# Iterating through the parameter grids and perform GridSearch for each variant\n",
    "for i, param_grid in enumerate(param_grids):\n",
    "    # Performing GridSearch\n",
    "    model_SVM = SVC()\n",
    "    grid_search = GridSearchCV(model_SVM, param_grid, cv=3, n_jobs=-1, verbose=2)\n",
    "    grid_search.fit(X_train, y_train)\n",
    "    \n",
    "    # Getting the best parameters and best score\n",
    "    best_params = grid_search.best_params_\n",
    "    best_score = grid_search.best_score_\n",
    "    \n",
    "    # Storing the best parameters and score for the current variant\n",
    "    variant_name = f\"Variant {i+1}\"\n",
    "    best_parameters[variant_name] = best_params\n",
    "    best_scores[variant_name] = best_score\n",
    "\n",
    "# Print the best parameters and scores for each variant\n",
    "for variant, params in best_parameters.items():\n",
    "    print(f\"{variant} - Best Parameters:\", params)\n",
    "    print(f\"{variant} - Best Score:\", best_scores[variant])"
   ]
  },
  {
   "cell_type": "code",
   "execution_count": 6,
   "id": "7b619aeb",
   "metadata": {
    "ExecuteTime": {
     "end_time": "2023-10-20T09:47:10.638438Z",
     "start_time": "2023-10-20T09:47:06.757506Z"
    }
   },
   "outputs": [
    {
     "name": "stdout",
     "output_type": "stream",
     "text": [
      "Cross-Validation Fold 1: Accuracy = 0.9210\n",
      "Cross-Validation Fold 2: Accuracy = 0.9104\n",
      "Cross-Validation Fold 3: Accuracy = 0.9182\n",
      "Cross-Validation Fold 4: Accuracy = 0.9137\n",
      "Cross-Validation Fold 5: Accuracy = 0.9154\n",
      "Mean Accuracy: 0.9157\n",
      "Standard Deviation: 0.0037\n",
      "Validation Accuracy:  0.9100418410041841\n"
     ]
    }
   ],
   "source": [
    "# Model training and Cross Validation\n",
    "\n",
    "# Training SVM model using training and validation data\n",
    "model_SVM = SVC(kernel='poly', degree=4, gamma='scale', coef0=1.0)\n",
    "model_SVM.fit(X_train, y_train)\n",
    "\n",
    "# Defining the number of folds for cross-validation\n",
    "num_folds = 5 \n",
    "\n",
    "# Creating a cross-validation object\n",
    "kf = KFold(n_splits=num_folds, shuffle=True, random_state=42)\n",
    "\n",
    "# Performing cross-validation and calculate accuracy for each fold\n",
    "cross_val_scores = cross_val_score(model_SVM, X_train, y_train, cv=kf, scoring='accuracy')\n",
    "\n",
    "# Printing the accuracy scores for each fold\n",
    "for fold, score in enumerate(cross_val_scores, start=1):\n",
    "    print(f'Cross-Validation Fold {fold}: Accuracy = {score:.4f}')\n",
    "\n",
    "# Calculating the mean and standard deviation of the accuracy scores\n",
    "mean_accuracy = cross_val_scores.mean()\n",
    "std_deviation = cross_val_scores.std()\n",
    "\n",
    "# Print the mean and standard deviation of accuracy\n",
    "print(f'Mean Accuracy: {mean_accuracy:.4f}')\n",
    "print(f'Standard Deviation: {std_deviation:.4f}')\n",
    "\n",
    "# Predictions on validation data\n",
    "svm_prediction = model_SVM.predict(X_val)\n",
    "\n",
    "# Evaluation on validation data\n",
    "val_accuracy = accuracy_score(y_val, svm_prediction)\n",
    "\n",
    "# Print validation evaluation results\n",
    "print(\"Validation Accuracy: \", val_accuracy)"
   ]
  },
  {
   "cell_type": "code",
   "execution_count": 26,
   "id": "1d08a1ee",
   "metadata": {
    "ExecuteTime": {
     "end_time": "2023-10-20T09:47:14.270450Z",
     "start_time": "2023-10-20T09:47:12.841572Z"
    }
   },
   "outputs": [
    {
     "data": {
      "image/png": "[encoded data removed]",
      "text/plain": [
       "<Figure size 640x480 with 1 Axes>"
      ]
     },
     "metadata": {},
     "output_type": "display_data"
    },
    {
     "name": "stdout",
     "output_type": "stream",
     "text": [
      "Predicted Class: 9\n"
     ]
    }
   ],
   "source": [
    "# Testing functionality with manual testing\n",
    "\n",
    "# Choose a random index from the validation set\n",
    "random_index = np.random.randint(0, len(X_val))\n",
    "\n",
    "# Display the image\n",
    "plt.imshow(X_val[random_index].reshape(20, 20), vmin=0, vmax=255, cmap=\"gray\")\n",
    "plt.show()\n",
    "\n",
    "# Predict the class using the trained model\n",
    "predicted_class = model_SVM.predict(X_val[random_index].reshape(1, -1))\n",
    "\n",
    "# Print the predicted class\n",
    "print(\"Predicted Class:\", predicted_class[0])\n",
    "\n",
    "# Predictions on validation data\n",
    "svm_prediction = model_SVM.predict(X_val)"
   ]
  },
  {
   "cell_type": "code",
   "execution_count": 27,
   "id": "b49ee6d7",
   "metadata": {
    "ExecuteTime": {
     "end_time": "2023-10-20T09:47:23.045252Z",
     "start_time": "2023-10-20T09:47:21.869749Z"
    }
   },
   "outputs": [
    {
     "data": {
      "image/png": "[encoded data removed]",
      "text/plain": [
       "<Figure size 1000x1000 with 2 Axes>"
      ]
     },
     "metadata": {},
     "output_type": "display_data"
    }
   ],
   "source": [
    "# Creation of a confusion matrix\n",
    "\n",
    "svm_cm = metrics.confusion_matrix(y_val, svm_prediction)\n",
    "utils.generate_confusion_matrix(svm_cm, \"confusion_matrix_SVM\", y_val)"
   ]
  }
 ],
 "metadata": {
  "kernelspec": {
   "display_name": "Python 3",
   "language": "python",
   "name": "python3"
  },
  "language_info": {
   "codemirror_mode": {
    "name": "ipython",
    "version": 3
   },
   "file_extension": ".py",
   "mimetype": "text/x-python",
   "name": "python",
   "nbconvert_exporter": "python",
   "pygments_lexer": "ipython3",
   "version": "3.10.11"
  }
 },
 "nbformat": 4,
 "nbformat_minor": 5
}
