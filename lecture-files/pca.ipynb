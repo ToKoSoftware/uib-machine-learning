{
 "cells": [
  {
   "cell_type": "markdown",
   "metadata": {},
   "source": [
    "Based on an example by Sebastian Raschka (sebastianraschka.com)"
   ]
  },
  {
   "cell_type": "code",
   "execution_count": null,
   "metadata": {},
   "outputs": [],
   "source": [
    "import numpy as np\n",
    "import matplotlib.pyplot as plt"
   ]
  },
  {
   "cell_type": "code",
   "execution_count": null,
   "metadata": {},
   "outputs": [],
   "source": [
    "from mpl_toolkits.mplot3d import Axes3D\n",
    "from mpl_toolkits.mplot3d import proj3d\n",
    "from matplotlib.patches import FancyArrowPatch\n",
    "\n",
    "class Arrow3D(FancyArrowPatch):\n",
    "    def __init__(self, xs, ys, zs, *args, **kwargs):\n",
    "        FancyArrowPatch.__init__(self, (0,0), (0,0), *args, **kwargs)\n",
    "        self._verts3d = xs, ys, zs\n",
    "\n",
    "    def draw(self, renderer):\n",
    "        xs3d, ys3d, zs3d = self._verts3d\n",
    "        xs, ys, zs = proj3d.proj_transform(xs3d, ys3d, zs3d, renderer.M)\n",
    "        self.set_positions((xs[0],ys[0]),(xs[1],ys[1]))\n",
    "        FancyArrowPatch.draw(self, renderer)"
   ]
  },
  {
   "cell_type": "code",
   "execution_count": null,
   "metadata": {},
   "outputs": [],
   "source": [
    "data = np.array([[0.1, 0.2, 0.3], [0.5, 0.6, 0.7], [0.3, 0.4, 0.55], [0.4, 0.47, 0.58], [0.6, 0.72, 0.79], [0.5, 0.45, 0.4], [0.3, 0.7, 0.2], [0.9, 0.4, 0.5]])\n",
    "\n",
    "n = data.shape[0]"
   ]
  },
  {
   "cell_type": "code",
   "execution_count": null,
   "metadata": {},
   "outputs": [],
   "source": [
    "np.random.seed(1)\n",
    "\n",
    "n_samples = 40\n",
    "\n",
    "a_gen = 2\n",
    "b_gen = 1\n",
    "c_gen = 2\n",
    "d_gen = 1\n",
    "\n",
    "sigma = np.sqrt(0.05)\n",
    "\n",
    "X1 = np.random.uniform(size=n_samples)\n",
    "X2 = np.random.uniform(size=n_samples)\n",
    "\n",
    "X3 = (d_gen - a_gen * X1 - b_gen * X2) / c_gen + np.random.normal(0, sigma, size=n_samples)\n",
    "\n",
    "data = np.concatenate([[X1], [X2], [X3]], ).T\n",
    "n = data.shape[0]"
   ]
  },
  {
   "cell_type": "code",
   "execution_count": null,
   "metadata": {},
   "outputs": [],
   "source": []
  },
  {
   "cell_type": "code",
   "execution_count": null,
   "metadata": {},
   "outputs": [],
   "source": [
    "# Plot data points\n",
    "%matplotlib notebook\n",
    "\n",
    "fig = plt.figure(figsize=(8,8))\n",
    "ax = fig.add_subplot(111, projection='3d')\n",
    "\n",
    "for i in range(n):\n",
    "    ax.scatter(data[i, 0], data[i, 1], data[i, 2])\n",
    "ax.set_xlabel('X1')\n",
    "ax.set_ylabel('X2')\n",
    "ax.set_zlabel('X3')\n",
    "\n",
    "plt.show()"
   ]
  },
  {
   "cell_type": "code",
   "execution_count": null,
   "metadata": {},
   "outputs": [],
   "source": []
  },
  {
   "cell_type": "code",
   "execution_count": null,
   "metadata": {},
   "outputs": [],
   "source": [
    "# Project data to coordinate axes\n",
    "fig = plt.figure()\n",
    "\n",
    "ax1 = fig.add_subplot(131)\n",
    "#ax1.set_xlim(0, 1)\n",
    "\n",
    "for i in range(n):\n",
    "    ax1.scatter(data[i, 0], [0])\n",
    "    \n",
    "ax1.set_title('Projection to X1')\n",
    "    \n",
    "var1 = np.var(data[:, 0])\n",
    "print('Variance w.r.t X1: %s' % var1)\n",
    "\n",
    "ax1 = fig.add_subplot(132)\n",
    "#ax1.set_xlim(0, 1)\n",
    "ax1.get_yaxis().set_visible(False)\n",
    "\n",
    "for i in range(n):\n",
    "    ax1.scatter(data[i, 1], [0])\n",
    "    \n",
    "ax1.set_title('Projection to X2')\n",
    "\n",
    "var2 = np.var(data[:, 1])\n",
    "print('Variance w.r.t X2: %s' % var2)\n",
    "\n",
    "ax1 = fig.add_subplot(133)\n",
    "#ax1.set_xlim(0, 1)\n",
    "ax1.get_yaxis().set_visible(False)\n",
    "\n",
    "for i in range(n):\n",
    "    ax1.scatter(data[i, 2], [0])\n",
    "    \n",
    "ax1.set_title('Projection to X3')\n",
    "\n",
    "var3 = np.var(data[:, 2])\n",
    "print('Variance w.r.t X3: %s' % var3)\n",
    "\n",
    "plt.show()"
   ]
  },
  {
   "cell_type": "markdown",
   "metadata": {},
   "source": [
    "## PCA"
   ]
  },
  {
   "cell_type": "code",
   "execution_count": null,
   "metadata": {},
   "outputs": [],
   "source": [
    "# Compute means of each feature\n",
    "mean_x = np.mean(data[:,0])\n",
    "mean_y = np.mean(data[:,1])\n",
    "mean_z = np.mean(data[:,2])\n",
    "\n",
    "mean_vector = np.array([[mean_x],[mean_y],[mean_z]])\n",
    "\n",
    "print('Mean Vector:', mean_vector)"
   ]
  },
  {
   "cell_type": "code",
   "execution_count": null,
   "metadata": {},
   "outputs": [],
   "source": [
    "# Center the data\n",
    "X = np.matrix(data)\n",
    "X[:,0] -= mean_x\n",
    "X[:,1] -= mean_y\n",
    "X[:,2] -= mean_z\n",
    "\n",
    "print('Mean after centering: %s' % np.mean(X))"
   ]
  },
  {
   "cell_type": "code",
   "execution_count": null,
   "metadata": {},
   "outputs": [],
   "source": [
    "# Compute covariance matrix\n",
    "n = X.shape[0]\n",
    "S = 1.0/n*X.T*X\n",
    "\n",
    "print(S)"
   ]
  },
  {
   "cell_type": "code",
   "execution_count": null,
   "metadata": {},
   "outputs": [],
   "source": [
    "# Eigenvectors and eigenvalues  from the covariance matrix\n",
    "eig_val, eig_vec = np.linalg.eig(S)\n",
    "\n",
    "for i in range(len(eig_val)):\n",
    "    eigvec = eig_vec[:,i].reshape(1,3).T\n",
    "\n",
    "    print('Eigenvector {}: \\n{}'.format(i+1, eigvec))\n",
    "    print('Eigenvalue {}: {}'.format(i+1, eig_val[i]))\n",
    "    print(40 * '-')\n"
   ]
  },
  {
   "cell_type": "code",
   "execution_count": null,
   "metadata": {},
   "outputs": [],
   "source": [
    "# Print products of eigenvectors to check that they are orthogonal\n",
    "print(float(eig_vec[0]*eig_vec[1].T))\n",
    "print(float(eig_vec[0]*eig_vec[2].T))\n",
    "print(float(eig_vec[1]*eig_vec[2].T))"
   ]
  },
  {
   "cell_type": "code",
   "execution_count": null,
   "metadata": {},
   "outputs": [],
   "source": [
    "# Print norms of eigenvectors\n",
    "print(np.linalg.norm(eig_vec[0]))\n",
    "print(np.linalg.norm(eig_vec[1]))\n",
    "print(np.linalg.norm(eig_vec[2]))"
   ]
  },
  {
   "cell_type": "code",
   "execution_count": null,
   "metadata": {},
   "outputs": [],
   "source": [
    "# Check that the sum of the eigenvalues equals to the sum of the variances\n",
    "print('Sum of the eigenvalues: %s' % np.sum(eig_val))\n",
    "print('Sum of the variances: %s' % np.sum(np.diag(S)))"
   ]
  },
  {
   "cell_type": "code",
   "execution_count": null,
   "metadata": {},
   "outputs": [],
   "source": [
    "# Make a list of (eigenvalue, eigenvector) tuples\n",
    "eig_pairs = [(np.abs(eig_val[i]), eig_vec[:,i]) for i in range(len(eig_val))]\n",
    "\n",
    "# Sort the (eigenvalue, eigenvector) tuples from high to low\n",
    "eig_pairs.sort(key=lambda x: x[0], reverse=True)\n",
    "\n",
    "# Visually confirm that the list is correctly sorted by decreasing eigenvalues\n",
    "comb_var = list()\n",
    "var = 0\n",
    "for i in eig_pairs:\n",
    "    print(i[0])\n",
    "    var += i[0]\n",
    "    comb_var.append(var)"
   ]
  },
  {
   "cell_type": "code",
   "execution_count": null,
   "metadata": {},
   "outputs": [],
   "source": [
    "# Plot data points with eigenvectors\n",
    "%matplotlib notebook\n",
    "\n",
    "fig = plt.figure(figsize=(8,8))\n",
    "ax = fig.add_subplot(111, projection='3d')\n",
    "\n",
    "for i in range(n):\n",
    "    ax.scatter(data[i, 0], data[i, 1], data[i, 2])\n",
    "ax.set_xlabel('X1')\n",
    "ax.set_ylabel('X2')\n",
    "ax.set_zlabel('X3')\n",
    "\n",
    "scaling_factor = 3\n",
    "\n",
    "for v in eig_vec.T:\n",
    "    a = Arrow3D([mean_x, mean_x + v[0,0]/scaling_factor], [mean_y, mean_y + v[0,1]/scaling_factor], [mean_z, mean_z + v[0,2]/scaling_factor], mutation_scale=20, lw=3, arrowstyle=\"-|>\", color=\"r\")\n",
    "    ax.add_artist(a)\n",
    "\n",
    "plt.show()"
   ]
  },
  {
   "cell_type": "code",
   "execution_count": null,
   "metadata": {},
   "outputs": [],
   "source": []
  },
  {
   "cell_type": "code",
   "execution_count": null,
   "metadata": {},
   "outputs": [],
   "source": [
    "# Create a projection matrix with the first and second principal component\n",
    "nr_of_pc = 2 # Specify the number of principal components\n",
    "\n",
    "if nr_of_pc == 1:\n",
    "    matrix_w = eig_pairs[0][1].reshape(3,1)\n",
    "elif nr_of_pc == 2:\n",
    "    matrix_w = np.hstack((eig_pairs[0][1].reshape(3,1), eig_pairs[1][1].reshape(3,1)))\n",
    "else:\n",
    "    matrix_w = np.hstack((eig_pairs[0][1].reshape(3,1), eig_pairs[1][1].reshape(3,1), eig_pairs[2][1].reshape(3,1)))\n",
    "\n",
    "print('Matrix W:', matrix_w)\n",
    "\n",
    "p = matrix_w.shape[1]\n",
    "exp_var = comb_var[p-1]/np.sum(eig_val)\n",
    "print('Explained variance: %s' % exp_var)"
   ]
  },
  {
   "cell_type": "code",
   "execution_count": null,
   "metadata": {},
   "outputs": [],
   "source": [
    "# Transform data to a lower dimensional space\n",
    "transformed = X*matrix_w\n",
    "print(np.cov(transformed.T, bias=True))"
   ]
  },
  {
   "cell_type": "code",
   "execution_count": null,
   "metadata": {},
   "outputs": [],
   "source": [
    "# Plot the low dimensional representation\n",
    "\n",
    "plt.figure()\n",
    "\n",
    "for i in range(n):\n",
    "    if nr_of_pc > 1:\n",
    "        plt.scatter(transformed[i, 0], transformed[i, 1])\n",
    "    else:\n",
    "        plt.scatter(transformed[i, 0], 0) \n",
    "        \n",
    "plt.xlabel('PC1')\n",
    "if nr_of_pc > 1:\n",
    "    plt.ylabel('PC2')\n",
    "plt.show()"
   ]
  },
  {
   "cell_type": "code",
   "execution_count": null,
   "metadata": {},
   "outputs": [],
   "source": []
  },
  {
   "cell_type": "code",
   "execution_count": null,
   "metadata": {},
   "outputs": [],
   "source": [
    "# Transform points back to the original space\n",
    "re_transformed = transformed*matrix_w.T + np.vstack(mean_vector.T)\n",
    "mean_x1 = np.mean(re_transformed[:,0])\n",
    "mean_y1 = np.mean(re_transformed[:,1])\n",
    "mean_z1 = np.mean(re_transformed[:,2])"
   ]
  },
  {
   "cell_type": "code",
   "execution_count": null,
   "metadata": {},
   "outputs": [],
   "source": [
    "# Plot data points after transformation back to original space\n",
    "\n",
    "fig = plt.figure(figsize=(8,8))\n",
    "ax2 = fig.add_subplot(111, projection='3d')\n",
    "\n",
    "for i in range(n):\n",
    "    ax2.scatter(re_transformed[i, 0], re_transformed[i, 1], re_transformed[i, 2])\n",
    "ax2.set_xlabel('X1')\n",
    "ax2.set_ylabel('X2')\n",
    "ax2.set_zlabel('X3')\n",
    "\n",
    "plt.show()"
   ]
  },
  {
   "cell_type": "code",
   "execution_count": null,
   "metadata": {},
   "outputs": [],
   "source": []
  },
  {
   "cell_type": "code",
   "execution_count": null,
   "metadata": {},
   "outputs": [],
   "source": [
    "# Formula for a line (if we use only the first principal component)\n",
    "if nr_of_pc == 1:\n",
    "    v0 = np.array(matrix_w[:, 0]).reshape(-1,)\n",
    "    p0 = re_transformed[0, :]\n",
    "\n",
    "    points = []\n",
    "\n",
    "    for t in [-1.1, 0.5]:\n",
    "        points.append(np.array(p0 + v0*t)[0])"
   ]
  },
  {
   "cell_type": "code",
   "execution_count": null,
   "metadata": {},
   "outputs": [],
   "source": [
    "# Formula for plane (if we use the firs two principal components)\n",
    "if nr_of_pc == 2:\n",
    "    v1 = np.array(matrix_w[:, 0]).reshape(-1,)\n",
    "    v2 = np.array(matrix_w[:, 1]).reshape(-1,)\n",
    "\n",
    "    cp = np.cross(v1, v2)\n",
    "    a, b, c = cp\n",
    "\n",
    "    d = np.dot(cp, re_transformed[0,:].reshape(-1, 1))\n",
    "\n",
    "    xx = np.linspace(-0.1, 1.1, 5)\n",
    "    yy = np.linspace(-0.1, 1.1, 5)\n",
    "    XX, YY = np.meshgrid(xx, yy)\n",
    "\n",
    "    ZZ = (d - a * XX - b * YY) / c\n"
   ]
  },
  {
   "cell_type": "code",
   "execution_count": null,
   "metadata": {},
   "outputs": [],
   "source": [
    "# Project points back to the original space\n",
    "\n",
    "%matplotlib notebook\n",
    "\n",
    "show_eigenvectors = False\n",
    "\n",
    "fig = plt.figure(figsize=(8,8))\n",
    "ax = fig.add_subplot(111, projection='3d')\n",
    "plt.rcParams['legend.fontsize'] = 10   \n",
    "\n",
    "if nr_of_pc == 1:\n",
    "    ax.plot([points[0][0], points[1][0]], [points[0][1], points[1][1]], [points[0][2], points[1][2]], c='magenta') # Line for 1-dimensional model\n",
    "elif nr_of_pc == 2:\n",
    "    surf = ax.plot_surface(XX, YY, ZZ, antialiased=False, color='magenta', alpha=0.1) # Plane for 2-dimensional model\n",
    "\n",
    "for i in range(n):\n",
    "    ax.scatter(data[i,0], data[i,1], data[i,2], 'o', s=30, c='blue', label='original points' )\n",
    "    ax.scatter(re_transformed[i,0], re_transformed[i,1], re_transformed[i,2], '*', s=30, c='magenta', label='projected points' )\n",
    "    plt.plot([re_transformed[i,0], data[i,0]], [re_transformed[i,1], data[i,1]],[re_transformed[i,2], data[i,2]], c='red')\n",
    "\n",
    "if show_eigenvectors:\n",
    "    for v in eig_vec.T:\n",
    "        a = Arrow3D([mean_x, mean_x + v[0,0]], [mean_y, mean_y + v[0,1]], [mean_z, mean_z + v[0,2]], mutation_scale=20, lw=3, arrowstyle=\"-|>\", color=\"r\")\n",
    "        ax.add_artist(a)\n",
    "    \n",
    "ax.set_xlabel('X1')\n",
    "ax.set_ylabel('X2')\n",
    "ax.set_zlabel('X3')\n",
    "\n",
    "plt.show()\n"
   ]
  },
  {
   "cell_type": "code",
   "execution_count": null,
   "metadata": {},
   "outputs": [],
   "source": []
  },
  {
   "cell_type": "code",
   "execution_count": null,
   "metadata": {},
   "outputs": [],
   "source": []
  },
  {
   "cell_type": "code",
   "execution_count": null,
   "metadata": {},
   "outputs": [],
   "source": []
  }
 ],
 "metadata": {
  "kernelspec": {
   "display_name": "Python 3",
   "language": "python",
   "name": "python3"
  },
  "language_info": {
   "codemirror_mode": {
    "name": "ipython",
    "version": 3
   },
   "file_extension": ".py",
   "mimetype": "text/x-python",
   "name": "python",
   "nbconvert_exporter": "python",
   "pygments_lexer": "ipython3",
   "version": "3.6.12"
  }
 },
 "nbformat": 4,
 "nbformat_minor": 2
}
