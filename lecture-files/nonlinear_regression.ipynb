{
 "cells": [
  {
   "cell_type": "code",
   "execution_count": null,
   "metadata": {},
   "outputs": [],
   "source": [
    "from mpl_toolkits.mplot3d import Axes3D\n",
    "import matplotlib.pyplot as plt\n",
    "import numpy as np\n",
    "from sklearn.linear_model import LinearRegression\n",
    "from sklearn.metrics import mean_squared_error"
   ]
  },
  {
   "cell_type": "markdown",
   "metadata": {},
   "source": [
    "# Linear methods for non-linear data"
   ]
  },
  {
   "cell_type": "code",
   "execution_count": null,
   "metadata": {},
   "outputs": [],
   "source": [
    "# Generate non-linear data\n",
    "np.random.seed(1)\n",
    "x = np.arange(-1, 1, 0.1).reshape(-1, 1)\n",
    "y = 0.5*x + 2*x**2\n",
    "\n",
    "%matplotlib notebook\n",
    "\n",
    "fig1 = plt.figure()\n",
    "ax1 = fig1.add_subplot(111)\n",
    "ax1.scatter(x, y, c='r')\n",
    "ax1.set_xlabel('x')\n",
    "ax1.set_ylabel('y')\n",
    "plt.show()"
   ]
  },
  {
   "cell_type": "code",
   "execution_count": null,
   "metadata": {},
   "outputs": [],
   "source": []
  },
  {
   "cell_type": "code",
   "execution_count": null,
   "metadata": {},
   "outputs": [],
   "source": [
    "# Fit linear regression\n",
    "lr = LinearRegression()\n",
    "lr.fit(x, y)\n",
    "\n",
    "# Plot the regression line above\n",
    "y_pred = lr.predict(x)\n",
    "ax1.plot(x, y_pred)\n",
    "plt.show()"
   ]
  },
  {
   "cell_type": "code",
   "execution_count": null,
   "metadata": {},
   "outputs": [],
   "source": []
  },
  {
   "cell_type": "markdown",
   "metadata": {},
   "source": [
    "# Nonlinear transform\n",
    "\n",
    "Transform data to 2-dimensional space using polynomial basis functions: $$ \\phi(x) = (x, x^2)$$"
   ]
  },
  {
   "cell_type": "code",
   "execution_count": null,
   "metadata": {},
   "outputs": [],
   "source": [
    "x2 = x**2\n",
    "\n",
    "%matplotlib notebook\n",
    "\n",
    "# Plot the transformed points \n",
    "fig2 = plt.figure()\n",
    "ax2 = fig2.add_subplot(111, projection='3d')\n",
    "ax2.scatter(x, x2, y, c='r', linewidths=5, alpha=1)\n",
    "ax2.set_xlabel('x')\n",
    "ax2.set_ylabel('x^2')\n",
    "ax2.set_zlabel('y')\n",
    "plt.show()"
   ]
  },
  {
   "cell_type": "markdown",
   "metadata": {},
   "source": [
    "The transformed data can be modeled using a linear model in a higher dimensional space"
   ]
  },
  {
   "cell_type": "code",
   "execution_count": null,
   "metadata": {},
   "outputs": [],
   "source": [
    "# Plot a plane through to transformed points\n",
    "p = np.linspace(-1, 1, 21)\n",
    "\n",
    "xx, xx2 = np.meshgrid(p, p)\n",
    "\n",
    "z = 0.5*xx + 2*xx2\n",
    "\n",
    "ax2.plot_surface(xx, xx2, z)\n",
    "plt.show()"
   ]
  },
  {
   "cell_type": "code",
   "execution_count": null,
   "metadata": {},
   "outputs": [],
   "source": []
  },
  {
   "cell_type": "code",
   "execution_count": null,
   "metadata": {},
   "outputs": [],
   "source": []
  },
  {
   "cell_type": "markdown",
   "metadata": {},
   "source": [
    "# Non-linear regression with basis functions"
   ]
  },
  {
   "cell_type": "code",
   "execution_count": null,
   "metadata": {},
   "outputs": [],
   "source": [
    "# Data-generating function\n",
    "def f(x):\n",
    "    #return x**2 - 4*x  # Feel free to change the formula to test different kinds of functions\n",
    "    return np.sin(2*x) - 3*np.sin(x) + 0.05*x**2\n",
    "    #return 2*x\n",
    "    \n",
    "# Returns a noisy sample from f\n",
    "def noisyF(x, sigma=0.1):\n",
    "    return np.random.normal(f(x), sigma)\n",
    "    \n",
    "# Samples n_samples independent noisy samples from f where x is selected uniformly at random from interval\n",
    "def sampleF(n_samples, interval=[0, 6], sigma=0.1):\n",
    "    x = np.random.uniform(0, 6, n_samples)\n",
    "    y = noisyF(x, sigma)\n",
    "    return x, y"
   ]
  },
  {
   "cell_type": "code",
   "execution_count": null,
   "metadata": {},
   "outputs": [],
   "source": [
    "# Generate data\n",
    "interval = [0,6]\n",
    "sigma = 0.8\n",
    "\n",
    "np.random.seed(1)\n",
    "n_samples = 20\n",
    "x_train, y_train = sampleF(n_samples, interval=interval, sigma=sigma)"
   ]
  },
  {
   "cell_type": "code",
   "execution_count": null,
   "metadata": {},
   "outputs": [],
   "source": [
    "# Plot data\n",
    "%matplotlib inline\n",
    "\n",
    "plt.scatter(x_train, y_train, c='r')\n",
    "plt.show()"
   ]
  },
  {
   "cell_type": "code",
   "execution_count": null,
   "metadata": {},
   "outputs": [],
   "source": [
    "# Define the basis functions\n",
    "def phi(x):\n",
    "    n_samples = len(x)\n",
    "    #return np.matrix([np.ones(n_samples), x, np.sin(x), np.cos(x), np.cos(2*x), np.sin(2*x), np.cos(3*x), np.sin(3*x)]).T\n",
    "    #return np.matrix([np.ones(n_samples), x]).T\n",
    "    #return np.matrix([np.ones(n_samples), x, x**2]).T\n",
    "    #return np.matrix([np.ones(n_samples), x, x**2, x**3]).T\n",
    "    #return np.matrix([np.ones(n_samples), x, x**2, x**3, x**4]).T\n",
    "    return np.matrix([np.ones(n_samples), x, x**2, x**3, x**4, x**5, x**6, x**7, x**8, x**9]).T"
   ]
  },
  {
   "cell_type": "code",
   "execution_count": null,
   "metadata": {},
   "outputs": [],
   "source": [
    "# Print original data\n",
    "x_train"
   ]
  },
  {
   "cell_type": "code",
   "execution_count": null,
   "metadata": {},
   "outputs": [],
   "source": [
    "# Transform data to high dimensional space\n",
    "X = phi(x_train)\n",
    "Y = np.matrix(y_train).T\n",
    "X"
   ]
  },
  {
   "cell_type": "code",
   "execution_count": null,
   "metadata": {},
   "outputs": [],
   "source": [
    "# Multiple the design matrix X with its transpose\n",
    "XTX = X.T*X\n",
    "XTX"
   ]
  },
  {
   "cell_type": "code",
   "execution_count": null,
   "metadata": {},
   "outputs": [],
   "source": [
    "# Inverse XTX\n",
    "XTX_inv = np.linalg.inv(XTX)\n",
    "XTX_inv"
   ]
  },
  {
   "cell_type": "code",
   "execution_count": null,
   "metadata": {},
   "outputs": [],
   "source": [
    "# Check that the inverse is sensible\n",
    "XTX*XTX_inv"
   ]
  },
  {
   "cell_type": "code",
   "execution_count": null,
   "metadata": {},
   "outputs": [],
   "source": [
    "# Compute the numerator\n",
    "XTy = X.T*Y\n",
    "XTy"
   ]
  },
  {
   "cell_type": "code",
   "execution_count": null,
   "metadata": {},
   "outputs": [],
   "source": [
    "# Solve the weights\n",
    "w = XTX_inv*XTy\n",
    "w"
   ]
  },
  {
   "cell_type": "code",
   "execution_count": null,
   "metadata": {},
   "outputs": [],
   "source": [
    "# Plot the learned model\n",
    "x_grid = np.linspace(0, 6, 121)\n",
    "y_pred = w.T*phi(x_grid).T\n",
    "\n",
    "plt.plot(x_grid, np.asarray(y_pred)[0], linewidth=2)\n",
    "plt.scatter(x_train, y_train, c='red')\n",
    "plt.show()\n",
    "\n",
    "pred = (w.T*X.T).T\n",
    "mse = mean_squared_error(pred, y_train)\n",
    "print('Training error: %.3f' % mse)"
   ]
  },
  {
   "cell_type": "code",
   "execution_count": null,
   "metadata": {},
   "outputs": [],
   "source": []
  },
  {
   "cell_type": "code",
   "execution_count": null,
   "metadata": {},
   "outputs": [],
   "source": [
    "# Generate new samples and plot with the learned curve\n",
    "np.random.seed(7)\n",
    "\n",
    "x_val, y_val = sampleF(n_samples, interval=interval, sigma=sigma)\n",
    "\n",
    "plt.plot(x_grid, np.asarray(y_pred)[0], linewidth=2)\n",
    "plt.scatter(x_val, y_val, c='m')\n",
    "plt.show()\n",
    "\n",
    "pred = (w.T*phi(x_val).T).T\n",
    "mse = mean_squared_error(pred, y_val)\n",
    "print('Validation error: %.3f' % mse)"
   ]
  },
  {
   "cell_type": "code",
   "execution_count": null,
   "metadata": {},
   "outputs": [],
   "source": []
  },
  {
   "cell_type": "markdown",
   "metadata": {},
   "source": [
    "# Effect of regularization"
   ]
  },
  {
   "cell_type": "code",
   "execution_count": null,
   "metadata": {},
   "outputs": [],
   "source": [
    "# L2 Regularization\n",
    "l = 1 # lambda parameter specifying the strength of regularization\n",
    "I = np.identity(X.shape[1])\n",
    "\n",
    "w_reg = np.linalg.inv(XTX + l*I)*XTy # Weights with regularization\n",
    "w_reg"
   ]
  },
  {
   "cell_type": "code",
   "execution_count": null,
   "metadata": {},
   "outputs": [],
   "source": [
    "# Plot the regression lines\n",
    "y_pred_reg = w_reg.T*phi(x_grid).T\n",
    "\n",
    "plt.figure()\n",
    "\n",
    "plt.scatter(x_train, y_train, c='red')\n",
    "plt.plot(x_grid, np.asarray(y_pred)[0], linewidth=3)\n",
    "plt.plot(x_grid, np.asarray(y_pred_reg)[0], c='g', linewidth=3)\n",
    "plt.legend(['Unregularized', 'Regularized'])\n",
    "plt.title('Training data')\n",
    "\n",
    "plt.figure()\n",
    "\n",
    "plt.scatter(x_val, y_val, c='red')\n",
    "plt.plot(x_grid, np.asarray(y_pred)[0], linewidth=3)\n",
    "plt.plot(x_grid, np.asarray(y_pred_reg)[0], c='g', linewidth=3)\n",
    "plt.legend(['Unregularized', 'Regularized'])\n",
    "plt.title('Validation data')\n",
    "\n",
    "plt.show()\n",
    "\n",
    "pred = (w_reg.T*phi(x_train).T).T\n",
    "mse = mean_squared_error(pred, y_train)\n",
    "print('Training error after regularization: %.3f' % mse)\n",
    "\n",
    "pred = (w_reg.T*phi(x_val).T).T\n",
    "mse = mean_squared_error(pred, y_val)\n",
    "print('Validation error after regularization: %.3f' % mse)"
   ]
  },
  {
   "cell_type": "code",
   "execution_count": null,
   "metadata": {},
   "outputs": [],
   "source": []
  },
  {
   "cell_type": "code",
   "execution_count": null,
   "metadata": {},
   "outputs": [],
   "source": []
  },
  {
   "cell_type": "code",
   "execution_count": null,
   "metadata": {},
   "outputs": [],
   "source": []
  }
 ],
 "metadata": {
  "kernelspec": {
   "display_name": "Python 3",
   "language": "python",
   "name": "python3"
  },
  "language_info": {
   "codemirror_mode": {
    "name": "ipython",
    "version": 3
   },
   "file_extension": ".py",
   "mimetype": "text/x-python",
   "name": "python",
   "nbconvert_exporter": "python",
   "pygments_lexer": "ipython3",
   "version": "3.6.12"
  }
 },
 "nbformat": 4,
 "nbformat_minor": 2
}
