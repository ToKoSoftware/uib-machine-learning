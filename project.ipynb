{
 "cells": [
  {
   "cell_type": "markdown",
   "source": [
    "# Implementation of Decision Tree Algorithm\n",
    "## Imports"
   ],
   "metadata": {
    "collapsed": false
   },
   "id": "7bb8fa2958d60515"
  },
  {
   "cell_type": "code",
   "execution_count": 39,
   "outputs": [],
   "source": [
    "import pandas as pd\n",
    "import numpy as np\n",
    "\n",
    "from src.util import *"
   ],
   "metadata": {
    "collapsed": false,
    "ExecuteTime": {
     "end_time": "2023-09-16T11:45:12.780134Z",
     "start_time": "2023-09-16T11:45:12.772394Z"
    }
   },
   "id": "5f40249a475e1071"
  },
  {
   "cell_type": "markdown",
   "source": [
    "## Sample data "
   ],
   "metadata": {
    "collapsed": false
   },
   "id": "cea3f89f5f5fb004"
  },
  {
   "cell_type": "code",
   "execution_count": 40,
   "outputs": [],
   "source": [
    "X = pd.read_csv('data/wine_dataset.csv')\n",
    "y = X['type']"
   ],
   "metadata": {
    "collapsed": false,
    "ExecuteTime": {
     "end_time": "2023-09-16T11:45:14.200017Z",
     "start_time": "2023-09-16T11:45:14.182190Z"
    }
   },
   "id": "96e37069cfe152ce"
  },
  {
   "cell_type": "markdown",
   "source": [
    "## Functions for Decision Tree Algorithm"
   ],
   "metadata": {
    "collapsed": false
   },
   "id": "daaafe18cd35f9dd"
  },
  {
   "cell_type": "code",
   "execution_count": 41,
   "id": "initial_id",
   "metadata": {
    "collapsed": true,
    "ExecuteTime": {
     "end_time": "2023-09-16T11:45:17.917647Z",
     "start_time": "2023-09-16T11:45:17.899709Z"
    }
   },
   "outputs": [],
   "source": [
    "def learn(X, y, impurity_measure='entropy'):\n",
    "    if impurity_measure not in ['entropy', 'gini']:\n",
    "        raise ValueError('impurity_measure must be either \"entropy\" or \"gini\"')\n",
    "    if len(X) != len(y):\n",
    "        raise ValueError('X and y must have the same length')\n",
    "    "
   ]
  },
  {
   "cell_type": "code",
   "execution_count": 45,
   "outputs": [],
   "source": [
    "# check if data is pure, meaning that all samples belong to the same class\n",
    "def check_purity(y):\n",
    "    # create a distinct list of classes\n",
    "    unique_classes = np.unique(y)\n",
    "    # check if there is only one class in the list\n",
    "    return len(unique_classes) == 1"
   ],
   "metadata": {
    "collapsed": false,
    "ExecuteTime": {
     "end_time": "2023-09-16T11:57:58.884208Z",
     "start_time": "2023-09-16T11:57:58.879121Z"
    }
   },
   "id": "9bc924946f8233f0"
  },
  {
   "cell_type": "code",
   "execution_count": null,
   "outputs": [],
   "source": [
    "def classify_data(y):\n",
    "    # create a distinct list of classes and their counts\n",
    "    unique_classes, counts_unique_classes = np.unique(y, return_counts=True)\n",
    "    # get the index of the most frequent class\n",
    "    index = counts_unique_classes.argmax()\n",
    "    # return the most frequent class\n",
    "    classification = unique_classes[index]\n",
    "    return classification"
   ],
   "metadata": {
    "collapsed": false
   },
   "id": "8c4e74f09f5518be"
  },
  {
   "cell_type": "markdown",
   "source": [
    "## Prediction"
   ],
   "metadata": {
    "collapsed": false
   },
   "id": "941caa7908cf031e"
  },
  {
   "cell_type": "code",
   "execution_count": 42,
   "outputs": [],
   "source": [
    "def predict(x, tree):\n",
    "    return "
   ],
   "metadata": {
    "collapsed": false,
    "ExecuteTime": {
     "end_time": "2023-09-16T11:45:20.193829Z",
     "start_time": "2023-09-16T11:45:20.170727Z"
    }
   },
   "id": "e073d27a2e0c7973"
  },
  {
   "cell_type": "markdown",
   "source": [
    "## Execution"
   ],
   "metadata": {
    "collapsed": false
   },
   "id": "469f23ff7491bd8c"
  },
  {
   "cell_type": "code",
   "execution_count": 43,
   "outputs": [
    {
     "name": "stdout",
     "output_type": "stream",
     "text": [
      "Training data:\n",
      "      citric acid  residual sugar    pH  sulphates  alcohol  type\n",
      "3034         0.38             8.1  3.30       0.54      9.8     0\n",
      "2576         0.23             6.2  3.34       0.43      9.6     0\n",
      "533          0.04             2.5  3.53       0.55      9.5     1\n",
      "1061         0.20             3.0  3.23       0.59      9.5     1\n",
      "2626         0.32            16.2  3.17       0.37     11.2     0\n",
      "...           ...             ...   ...        ...      ...   ...\n",
      "1095         0.59            11.8  3.17       0.46      8.9     0\n",
      "1130         0.30             1.2  2.96       0.36     12.5     0\n",
      "1294         0.00             2.2  3.40       0.58     10.9     1\n",
      "860          0.14             2.4  3.66       0.65      9.8     1\n",
      "3174         0.39             3.2  3.37       0.71     11.5     1\n",
      "\n",
      "[2558 rows x 6 columns]\n",
      "3034    0\n",
      "2576    0\n",
      "533     1\n",
      "1061    1\n",
      "2626    0\n",
      "       ..\n",
      "1095    0\n",
      "1130    0\n",
      "1294    1\n",
      "860     1\n",
      "3174    1\n",
      "Name: type, Length: 2558, dtype: int64\n",
      "\n",
      "Validation data:\n",
      "      citric acid  residual sugar    pH  sulphates  alcohol  type\n",
      "2440         0.59             2.2  3.20       0.78      9.6     1\n",
      "354          0.27             4.7  3.16       0.42     12.5     0\n",
      "601          0.00             1.2  3.32       0.51      9.8     1\n",
      "1159         0.43             2.2  3.16       0.67     10.8     1\n",
      "1465         0.02             2.1  3.38       0.69      9.5     1\n",
      "...           ...             ...   ...        ...      ...   ...\n",
      "561          0.07             1.4  3.32       0.81      9.6     1\n",
      "282          0.49             2.4  3.14       0.61     10.4     1\n",
      "2118         0.32            12.9  3.30       0.56     11.5     1\n",
      "2643         0.21             1.5  3.16       0.54      9.8     1\n",
      "801          0.24             1.7  3.29       0.67     10.0     1\n",
      "\n",
      "[640 rows x 6 columns]\n",
      "2440    1\n",
      "354     0\n",
      "601     1\n",
      "1159    1\n",
      "1465    1\n",
      "       ..\n",
      "561     1\n",
      "282     1\n",
      "2118    1\n",
      "2643    1\n",
      "801     1\n",
      "Name: type, Length: 640, dtype: int64\n"
     ]
    }
   ],
   "source": [
    "X_train, X_val, y_train, y_val = split_dataset(\n",
    "    X, y, test_size=0.2, random_state=42\n",
    ")\n",
    "\n",
    "print(\"Training data:\")\n",
    "print(X_train)\n",
    "print(y_train)\n",
    "\n",
    "print(\"\\nValidation data:\")\n",
    "print(X_val)\n",
    "print(y_val)\n"
   ],
   "metadata": {
    "collapsed": false,
    "ExecuteTime": {
     "end_time": "2023-09-16T11:45:21.403939Z",
     "start_time": "2023-09-16T11:45:21.399262Z"
    }
   },
   "id": "20ee0c755692f9fa"
  },
  {
   "cell_type": "code",
   "execution_count": 32,
   "outputs": [],
   "source": [
    "learn(X, y, 'entropy')"
   ],
   "metadata": {
    "collapsed": false,
    "ExecuteTime": {
     "end_time": "2023-09-16T11:28:55.326200Z",
     "start_time": "2023-09-16T11:28:55.309768Z"
    }
   },
   "id": "10fe4b1db369b66e"
  },
  {
   "cell_type": "code",
   "execution_count": 46,
   "outputs": [
    {
     "data": {
      "text/plain": "False"
     },
     "execution_count": 46,
     "metadata": {},
     "output_type": "execute_result"
    }
   ],
   "source": [
    "check_purity(y_train)"
   ],
   "metadata": {
    "collapsed": false,
    "ExecuteTime": {
     "end_time": "2023-09-16T11:58:02.051576Z",
     "start_time": "2023-09-16T11:58:02.028113Z"
    }
   },
   "id": "77345c29d611ae30"
  },
  {
   "cell_type": "code",
   "execution_count": null,
   "outputs": [],
   "source": [],
   "metadata": {
    "collapsed": false
   },
   "id": "98c92a0bbef76567"
  }
 ],
 "metadata": {
  "kernelspec": {
   "display_name": "Python 3",
   "language": "python",
   "name": "python3"
  },
  "language_info": {
   "codemirror_mode": {
    "name": "ipython",
    "version": 2
   },
   "file_extension": ".py",
   "mimetype": "text/x-python",
   "name": "python",
   "nbconvert_exporter": "python",
   "pygments_lexer": "ipython2",
   "version": "2.7.6"
  }
 },
 "nbformat": 4,
 "nbformat_minor": 5
}
