{
 "cells": [
  {
   "cell_type": "markdown",
   "source": [
    "# Implementation of Decision Tree Algorithm\n",
    "## Imports"
   ],
   "metadata": {
    "collapsed": false
   },
   "id": "7bb8fa2958d60515"
  },
  {
   "cell_type": "code",
   "execution_count": 93,
   "outputs": [],
   "source": [
    "import matplotlib.pyplot as plt\n",
    "import pandas as pd\n",
    "import numpy as np\n",
    "import seaborn as sns\n",
    "\n",
    "from src.util import *"
   ],
   "metadata": {
    "collapsed": false,
    "ExecuteTime": {
     "end_time": "2023-09-17T13:47:44.449037Z",
     "start_time": "2023-09-17T13:47:44.392029Z"
    }
   },
   "id": "5f40249a475e1071"
  },
  {
   "cell_type": "markdown",
   "source": [
    "## Sample data "
   ],
   "metadata": {
    "collapsed": false
   },
   "id": "cea3f89f5f5fb004"
  },
  {
   "cell_type": "code",
   "execution_count": 94,
   "outputs": [],
   "source": [
    "X = pd.read_csv('data/wine_dataset.csv')\n",
    "y = X['type']\n",
    "# remove column type from X\n",
    "X = X.drop('type', axis=1)"
   ],
   "metadata": {
    "collapsed": false,
    "ExecuteTime": {
     "end_time": "2023-09-17T13:47:44.467365Z",
     "start_time": "2023-09-17T13:47:44.401647Z"
    }
   },
   "id": "96e37069cfe152ce"
  },
  {
   "cell_type": "markdown",
   "source": [
    "## Helper Functions"
   ],
   "metadata": {
    "collapsed": false
   },
   "id": "daaafe18cd35f9dd"
  },
  {
   "cell_type": "code",
   "execution_count": 95,
   "id": "initial_id",
   "metadata": {
    "collapsed": true,
    "ExecuteTime": {
     "end_time": "2023-09-17T13:47:44.469833Z",
     "start_time": "2023-09-17T13:47:44.411717Z"
    }
   },
   "outputs": [],
   "source": [
    "def learn(X, y, impurity_measure='entropy'):\n",
    "    # check if the impurity_measure is valid\n",
    "    if impurity_measure not in ['entropy', 'gini']:\n",
    "        raise ValueError('impurity_measure must be either \"entropy\" or \"gini\"')\n",
    "    # check if the data is valid\n",
    "    if len(X) != len(y):\n",
    "        raise ValueError('X and y must have the same length')\n"
   ]
  },
  {
   "cell_type": "code",
   "execution_count": 96,
   "outputs": [],
   "source": [
    "# check if data is pure, meaning that all samples belong to the same class\n",
    "def check_purity(y):\n",
    "    # create a distinct list of classes\n",
    "    unique_classes = np.unique(y)\n",
    "    # check if there is only one class in the list\n",
    "    return len(unique_classes) == 1"
   ],
   "metadata": {
    "collapsed": false,
    "ExecuteTime": {
     "end_time": "2023-09-17T13:47:44.469996Z",
     "start_time": "2023-09-17T13:47:44.418601Z"
    }
   },
   "id": "9bc924946f8233f0"
  },
  {
   "cell_type": "code",
   "execution_count": 97,
   "outputs": [],
   "source": [
    "def classify_data(y):\n",
    "    # create a distinct list of classes and their counts\n",
    "    unique_classes, counts_unique_classes = np.unique(y, return_counts=True)\n",
    "    # get the index of the most frequent class\n",
    "    index = counts_unique_classes.argmax()\n",
    "    # return the most frequent class\n",
    "    classification = unique_classes[index]\n",
    "    return classification"
   ],
   "metadata": {
    "collapsed": false,
    "ExecuteTime": {
     "end_time": "2023-09-17T13:47:44.470851Z",
     "start_time": "2023-09-17T13:47:44.425504Z"
    }
   },
   "id": "8c4e74f09f5518be"
  },
  {
   "cell_type": "code",
   "execution_count": 98,
   "outputs": [],
   "source": [
    "def get_potential_splits(X):\n",
    "    potential_splits = {}\n",
    "    # get the number of rows and columns\n",
    "    _, n_columns = X.shape\n",
    "    # iterate over each column to get the potential splits\n",
    "    for column_index in range(n_columns):\n",
    "        # get the values of the column\n",
    "        values = X[:, column_index]\n",
    "        # get the distinct values of the column because this the information is higher\n",
    "        unique_values = np.unique(values)\n",
    "\n",
    "        for index in range(len(unique_values)):\n",
    "            if index != 0:\n",
    "                current_value = unique_values[index]\n",
    "                previous_value = unique_values[index - 1]\n",
    "                # calculate the potential split -> calculate the average between the current and previous value\n",
    "                potential_split = (current_value + previous_value) / 2\n",
    "                # if no array exists for the current column, create one\n",
    "                if column_index not in potential_splits:\n",
    "                    potential_splits[column_index] = []\n",
    "                potential_splits[column_index].append(potential_split)\n",
    "    return potential_splits"
   ],
   "metadata": {
    "collapsed": false,
    "ExecuteTime": {
     "end_time": "2023-09-17T13:47:44.472352Z",
     "start_time": "2023-09-17T13:47:44.433865Z"
    }
   },
   "id": "412d8efbdd143521"
  },
  {
   "cell_type": "code",
   "execution_count": 99,
   "outputs": [],
   "source": [
    "def split_data(X, y, split_column, split_value):\n",
    "    # get the values of the column\n",
    "    split_column_values = X[:, split_column]\n",
    "    # get the indices of the rows that are less than the split value\n",
    "    less_than_split_value = np.where(split_column_values <= split_value)[0]\n",
    "    # get the indices of the rows that are greater than the split value\n",
    "    greater_than_split_value = np.where(split_column_values > split_value)[0]\n",
    "    # split the data\n",
    "    X_less_than = X[less_than_split_value]\n",
    "    y_less_than = y[less_than_split_value]\n",
    "    X_greater_than = X[greater_than_split_value]\n",
    "    y_greater_than = y[greater_than_split_value]\n",
    "    return X_less_than, y_less_than, X_greater_than, y_greater_than"
   ],
   "metadata": {
    "collapsed": false,
    "ExecuteTime": {
     "end_time": "2023-09-17T13:47:44.472759Z",
     "start_time": "2023-09-17T13:47:44.439707Z"
    }
   },
   "id": "d4ef06ad66de7d88"
  },
  {
   "cell_type": "markdown",
   "source": [
    "### Entropy\n",
    "\n",
    "Measurement of the tendency to differ to the same class. The lower the entropy, the more pure the data is."
   ],
   "metadata": {
    "collapsed": false
   },
   "id": "b6db127981f300e4"
  },
  {
   "cell_type": "code",
   "execution_count": 100,
   "outputs": [],
   "source": [
    "def calculate_entropy(y):\n",
    "    # get the number of samples\n",
    "    number_of_samples = len(y)\n",
    "    # get the distinct classes and their counts\n",
    "    _, counts = np.unique(y, return_counts=True)\n",
    "    # calculate the probabilities, this will run for each y because counts is an array\n",
    "    probabilities = counts / number_of_samples\n",
    "    # calculate the overall entropy\n",
    "    entropy = sum(probabilities * -np.log2(probabilities))\n",
    "    return entropy"
   ],
   "metadata": {
    "collapsed": false,
    "ExecuteTime": {
     "end_time": "2023-09-17T13:47:44.472811Z",
     "start_time": "2023-09-17T13:47:44.444385Z"
    }
   },
   "id": "54c8a034b557e38b"
  },
  {
   "cell_type": "code",
   "execution_count": 101,
   "outputs": [],
   "source": [
    "def calculate_overall_entropy(y_less_than, y_greater_than):\n",
    "    # get the number of samples\n",
    "    number_of_samples = len(y_less_than) + len(y_greater_than)\n",
    "    # calculate the probabilities\n",
    "    probabilities_less_than = len(y_less_than) / number_of_samples\n",
    "    probabilities_greater_than = len(y_greater_than) / number_of_samples\n",
    "    # calculate the overall entropy\n",
    "    overall_entropy = (\n",
    "        probabilities_less_than * calculate_entropy(y_less_than)\n",
    "        + probabilities_greater_than * calculate_entropy(y_greater_than)\n",
    "    )\n",
    "    return overall_entropy"
   ],
   "metadata": {
    "collapsed": false,
    "ExecuteTime": {
     "end_time": "2023-09-17T13:47:44.481135Z",
     "start_time": "2023-09-17T13:47:44.448365Z"
    }
   },
   "id": "2d8eab58429d422"
  },
  {
   "cell_type": "code",
   "execution_count": 102,
   "outputs": [],
   "source": [
    "def determine_best_split(X, y, potential_splits, impurity_measure='entropy'):\n",
    "    overall_entropy = 999\n",
    "    for column_index in potential_splits:\n",
    "        for value in potential_splits[column_index]:\n",
    "            # split the data with current split\n",
    "            X_less_than, y_less_than, X_greater_than, y_greater_than = split_data(\n",
    "                X, y, split_column=column_index, split_value=value\n",
    "            )\n",
    "            if impurity_measure == 'entropy':\n",
    "                current_overall_entropy = calculate_overall_entropy(\n",
    "                    y_less_than, y_greater_than\n",
    "                )\n",
    "            # elif impurity_measure == 'gini':\n",
    "                # current_overall_entropy = calculate_overall_gini(\n",
    "                #    y_less_than, y_greater_than\n",
    "                #)\n",
    "            if current_overall_entropy <= overall_entropy:\n",
    "                overall_entropy = current_overall_entropy\n",
    "                best_split_column = column_index\n",
    "                best_split_value = value\n",
    "                \n",
    "    return best_split_column, best_split_value"
   ],
   "metadata": {
    "collapsed": false,
    "ExecuteTime": {
     "end_time": "2023-09-17T13:47:44.481591Z",
     "start_time": "2023-09-17T13:47:44.467673Z"
    }
   },
   "id": "25f1496d1d0a62fd"
  },
  {
   "cell_type": "markdown",
   "source": [
    "## Decision Tree Algorithm"
   ],
   "metadata": {
    "collapsed": false
   },
   "id": "32c22e05fb613b26"
  },
  {
   "cell_type": "code",
   "execution_count": 122,
   "outputs": [
    {
     "name": "stdout",
     "output_type": "stream",
     "text": [
      "{'1 <= residual sugar': [{'3 <= sulphates': [{'0 <= citric acid': [{'3 <= sulphates': [{'1 <= residual sugar': [0, {'1 <= residual sugar': [{'0 <= citric acid': [{'3 <= sulphates': [{'4 <= alcohol': [1, 0]}, 1]}, {'2 <= pH': [1, 0]}]}, 0]}]}, {'0 <= citric acid': [{'3 <= sulphates': [{'2 <= pH': [1, 0]}, 1]}, {'1 <= residual sugar': [{'2 <= pH': [{'2 <= pH': [1, {'0 <= citric acid': [0, {'0 <= citric acid': [1, {'2 <= pH': [{'4 <= alcohol': [0, 1]}, 0]}]}]}]}, {'3 <= sulphates': [0, 1]}]}, {'3 <= sulphates': [{'1 <= residual sugar': [{'4 <= alcohol': [1, 0]}, {'0 <= citric acid': [1, 0]}]}, {'2 <= pH': [{'3 <= sulphates': [1, 0]}, {'2 <= pH': [1, {'4 <= alcohol': [0, 1]}]}]}]}]}]}]}, {'4 <= alcohol': [{'1 <= residual sugar': [{'1 <= residual sugar': [{'4 <= alcohol': [{'3 <= sulphates': [0, {'4 <= alcohol': [0, 1]}]}, 0]}, {'2 <= pH': [{'4 <= alcohol': [0, {'3 <= sulphates': [0, 1]}]}, {'2 <= pH': [1, {'4 <= alcohol': [{'4 <= alcohol': [0, 1]}, 0]}]}]}]}, {'3 <= sulphates': [0, {'1 <= residual sugar': [{'2 <= pH': [{'0 <= citric acid': [{'0 <= citric acid': [{'3 <= sulphates': [1, {'2 <= pH': [0, 1]}]}, 0]}, 1]}, 1]}, {'1 <= residual sugar': [0, {'4 <= alcohol': [0, 1]}]}]}]}]}, {'3 <= sulphates': [{'2 <= pH': [0, {'2 <= pH': [{'4 <= alcohol': [1, 0]}, 0]}]}, {'0 <= citric acid': [{'4 <= alcohol': [{'2 <= pH': [1, 0]}, 0]}, {'0 <= citric acid': [0, {'2 <= pH': [{'2 <= pH': [{'2 <= pH': [{'4 <= alcohol': [0, 1]}, {'0 <= citric acid': [{'4 <= alcohol': [{'1 <= residual sugar': [{'4 <= alcohol': [0, {'4 <= alcohol': [{'1 <= residual sugar': [{'3 <= sulphates': [0, 1]}, 0]}, 0]}]}, {'2 <= pH': [0, 1]}]}, 0]}, {'3 <= sulphates': [{'1 <= residual sugar': [0, {'0 <= citric acid': [{'2 <= pH': [1, 0]}, 0]}]}, 1]}]}]}, {'4 <= alcohol': [0, 1]}]}, 0]}]}]}]}]}]}, {'1 <= residual sugar': [{'0 <= citric acid': [{'2 <= pH': [{'4 <= alcohol': [{'4 <= alcohol': [{'3 <= sulphates': [0, 1]}, 1]}, 0]}, 1]}, {'1 <= residual sugar': [{'3 <= sulphates': [{'4 <= alcohol': [0, 1]}, {'1 <= residual sugar': [0, {'4 <= alcohol': [1, {'3 <= sulphates': [0, {'4 <= alcohol': [0, 1]}]}]}]}]}, {'0 <= citric acid': [{'4 <= alcohol': [1, {'1 <= residual sugar': [0, {'2 <= pH': [{'2 <= pH': [{'0 <= citric acid': [{'2 <= pH': [0, 1]}, 0]}, 0]}, 1]}]}]}, {'4 <= alcohol': [{'3 <= sulphates': [{'0 <= citric acid': [1, {'4 <= alcohol': [0, {'4 <= alcohol': [1, {'4 <= alcohol': [0, {'0 <= citric acid': [0, 1]}]}]}]}]}, {'2 <= pH': [{'0 <= citric acid': [{'2 <= pH': [{'2 <= pH': [1, 0]}, 1]}, 0]}, 0]}]}, {'4 <= alcohol': [{'4 <= alcohol': [{'2 <= pH': [1, 0]}, 1]}, 0]}]}]}]}]}, {'0 <= citric acid': [1, {'4 <= alcohol': [{'1 <= residual sugar': [{'1 <= residual sugar': [{'4 <= alcohol': [{'4 <= alcohol': [{'4 <= alcohol': [1, 0]}, {'3 <= sulphates': [{'3 <= sulphates': [1, {'4 <= alcohol': [1, 0]}]}, 1]}]}, 0]}, {'2 <= pH': [{'2 <= pH': [1, {'3 <= sulphates': [0, 1]}]}, 1]}]}, {'0 <= citric acid': [1, {'0 <= citric acid': [{'4 <= alcohol': [{'2 <= pH': [{'4 <= alcohol': [0, {'0 <= citric acid': [1, 0]}]}, 0]}, 1]}, 1]}]}]}, {'0 <= citric acid': [{'2 <= pH': [{'3 <= sulphates': [{'4 <= alcohol': [{'4 <= alcohol': [0, {'3 <= sulphates': [0, {'1 <= residual sugar': [1, 0]}]}]}, 0]}, 1]}, {'1 <= residual sugar': [{'4 <= alcohol': [{'3 <= sulphates': [{'0 <= citric acid': [{'3 <= sulphates': [{'4 <= alcohol': [1, {'0 <= citric acid': [{'2 <= pH': [{'4 <= alcohol': [{'1 <= residual sugar': [{'2 <= pH': [{'2 <= pH': [1, {'4 <= alcohol': [{'2 <= pH': [{'3 <= sulphates': [1, 0]}, 0]}, {'1 <= residual sugar': [1, {'4 <= alcohol': [1, 0]}]}]}]}, 1]}, 1]}, {'3 <= sulphates': [0, {'0 <= citric acid': [{'4 <= alcohol': [0, 1]}, 1]}]}]}, 1]}, {'4 <= alcohol': [1, {'3 <= sulphates': [0, {'1 <= residual sugar': [{'1 <= residual sugar': [0, 1]}, 0]}]}]}]}]}, 0]}, {'1 <= residual sugar': [{'3 <= sulphates': [{'4 <= alcohol': [1, {'4 <= alcohol': [{'4 <= alcohol': [0, 1]}, 0]}]}, {'1 <= residual sugar': [{'2 <= pH': [1, 0]}, {'3 <= sulphates': [{'0 <= citric acid': [1, {'3 <= sulphates': [{'4 <= alcohol': [0, 1]}, {'2 <= pH': [{'0 <= citric acid': [1, {'4 <= alcohol': [0, 1]}]}, {'2 <= pH': [0, {'4 <= alcohol': [1, {'1 <= residual sugar': [{'3 <= sulphates': [1, {'0 <= citric acid': [{'2 <= pH': [{'4 <= alcohol': [0, 1]}, 0]}, 1]}]}, {'0 <= citric acid': [1, {'0 <= citric acid': [0, {'3 <= sulphates': [{'3 <= sulphates': [1, 0]}, 1]}]}]}]}]}]}]}]}]}, 1]}]}]}, {'2 <= pH': [1, {'3 <= sulphates': [0, {'1 <= residual sugar': [{'4 <= alcohol': [1, {'0 <= citric acid': [0, 1]}]}, 0]}]}]}]}]}, {'4 <= alcohol': [1, {'3 <= sulphates': [1, {'4 <= alcohol': [{'3 <= sulphates': [{'4 <= alcohol': [1, {'4 <= alcohol': [0, 1]}]}, 0]}, 1]}]}]}]}, {'0 <= citric acid': [0, {'4 <= alcohol': [0, 1]}]}]}, {'3 <= sulphates': [0, {'4 <= alcohol': [0, 1]}]}]}]}, {'3 <= sulphates': [{'2 <= pH': [{'1 <= residual sugar': [0, {'1 <= residual sugar': [1, 0]}]}, {'2 <= pH': [{'0 <= citric acid': [{'0 <= citric acid': [{'4 <= alcohol': [{'3 <= sulphates': [0, 1]}, {'3 <= sulphates': [1, {'1 <= residual sugar': [{'3 <= sulphates': [0, 1]}, 0]}]}]}, 1]}, {'4 <= alcohol': [0, 1]}]}, 1]}]}, {'0 <= citric acid': [{'4 <= alcohol': [{'4 <= alcohol': [1, {'0 <= citric acid': [{'3 <= sulphates': [1, 0]}, 1]}]}, {'1 <= residual sugar': [{'4 <= alcohol': [1, 0]}, {'2 <= pH': [{'3 <= sulphates': [{'2 <= pH': [{'4 <= alcohol': [1, 0]}, 1]}, 1]}, 0]}]}]}, 1]}]}]}]}]}]}]}, {'3 <= sulphates': [{'3 <= sulphates': [{'0 <= citric acid': [{'4 <= alcohol': [1, 0]}, {'0 <= citric acid': [0, 1]}]}, {'0 <= citric acid': [{'2 <= pH': [{'1 <= residual sugar': [{'4 <= alcohol': [{'4 <= alcohol': [0, 1]}, 0]}, 0]}, {'3 <= sulphates': [1, {'3 <= sulphates': [0, {'2 <= pH': [{'4 <= alcohol': [1, 0]}, {'2 <= pH': [1, 0]}]}]}]}]}, {'4 <= alcohol': [{'1 <= residual sugar': [{'4 <= alcohol': [{'3 <= sulphates': [{'2 <= pH': [0, 1]}, {'0 <= citric acid': [0, 1]}]}, 0]}, {'2 <= pH': [0, {'2 <= pH': [{'4 <= alcohol': [0, 1]}, 0]}]}]}, {'0 <= citric acid': [{'2 <= pH': [{'1 <= residual sugar': [0, {'1 <= residual sugar': [1, {'2 <= pH': [0, {'3 <= sulphates': [0, 1]}]}]}]}, {'0 <= citric acid': [1, 0]}]}, {'1 <= residual sugar': [{'4 <= alcohol': [1, {'2 <= pH': [0, {'0 <= citric acid': [1, {'4 <= alcohol': [0, 1]}]}]}]}, {'1 <= residual sugar': [0, {'1 <= residual sugar': [1, 0]}]}]}]}]}]}]}, {'1 <= residual sugar': [{'0 <= citric acid': [{'2 <= pH': [0, {'0 <= citric acid': [{'0 <= citric acid': [1, {'2 <= pH': [0, {'2 <= pH': [1, 0]}]}]}, 1]}]}, {'2 <= pH': [0, 1]}]}, {'0 <= citric acid': [{'2 <= pH': [1, 0]}, {'0 <= citric acid': [0, {'0 <= citric acid': [1, {'2 <= pH': [{'3 <= sulphates': [{'0 <= citric acid': [1, 0]}, {'3 <= sulphates': [1, {'4 <= alcohol': [0, 1]}]}]}, {'3 <= sulphates': [0, {'4 <= alcohol': [0, 1]}]}]}]}]}]}]}]}]}\n"
     ]
    }
   ],
   "source": [
    "def decision_tree_algorithm(X, y, column_titles, impurity_measure='entropy'):\n",
    "    # check if the data is pure\n",
    "    if check_purity(y):\n",
    "        # classify the data as the most frequent class\n",
    "        classification = classify_data(y)\n",
    "        return classification\n",
    "    else:\n",
    "\n",
    "        # get the potential splits\n",
    "        potential_splits = get_potential_splits(X)\n",
    "        \n",
    "        # get the best split column and value\n",
    "        split_column, split_value = determine_best_split(\n",
    "            X, y, potential_splits, impurity_measure\n",
    "        )\n",
    "        # split the data according to the best split\n",
    "        X_less_than, y_less_than, X_greater_than, y_greater_than = split_data(\n",
    "            X, y, split_column, split_value\n",
    "        )\n",
    "        \n",
    "        question = \"{} <= {}\".format(split_column, column_titles[split_column])\n",
    "        sub_tree = {question: []}\n",
    "        # find answers (recursion)\n",
    "        yes_answer = decision_tree_algorithm(\n",
    "            X_less_than, y_less_than, column_titles, impurity_measure\n",
    "        )\n",
    "        no_answer = decision_tree_algorithm(\n",
    "            X_greater_than, y_greater_than, column_titles, impurity_measure\n",
    "        )\n",
    "        # if the answers are the same, then there is no point in asking the question\n",
    "        if yes_answer == no_answer:\n",
    "            sub_tree = yes_answer\n",
    "        else:\n",
    "            sub_tree[question].append(yes_answer)\n",
    "            sub_tree[question].append(no_answer)\n",
    "        return sub_tree\n",
    "\n",
    "print(decision_tree_algorithm(X.values, y.values, column_titles=X.columns))\n"
   ],
   "metadata": {
    "collapsed": false,
    "ExecuteTime": {
     "end_time": "2023-09-17T14:24:39.143620Z",
     "start_time": "2023-09-17T14:24:38.457775Z"
    }
   },
   "id": "418fa017928f6929"
  },
  {
   "cell_type": "markdown",
   "source": [
    "## Prediction"
   ],
   "metadata": {
    "collapsed": false
   },
   "id": "941caa7908cf031e"
  },
  {
   "cell_type": "code",
   "execution_count": 104,
   "outputs": [],
   "source": [
    "def predict(x, tree):\n",
    "    return"
   ],
   "metadata": {
    "collapsed": false,
    "ExecuteTime": {
     "end_time": "2023-09-17T13:47:44.484789Z",
     "start_time": "2023-09-17T13:47:44.479733Z"
    }
   },
   "id": "e073d27a2e0c7973"
  },
  {
   "cell_type": "markdown",
   "source": [
    "## Execution"
   ],
   "metadata": {
    "collapsed": false
   },
   "id": "469f23ff7491bd8c"
  },
  {
   "cell_type": "code",
   "execution_count": 105,
   "outputs": [
    {
     "name": "stdout",
     "output_type": "stream",
     "text": [
      "Training data:\n",
      "      citric acid  residual sugar    pH  sulphates  alcohol\n",
      "3034         0.38             8.1  3.30       0.54      9.8\n",
      "2576         0.23             6.2  3.34       0.43      9.6\n",
      "533          0.04             2.5  3.53       0.55      9.5\n",
      "1061         0.20             3.0  3.23       0.59      9.5\n",
      "2626         0.32            16.2  3.17       0.37     11.2\n",
      "...           ...             ...   ...        ...      ...\n",
      "1095         0.59            11.8  3.17       0.46      8.9\n",
      "1130         0.30             1.2  2.96       0.36     12.5\n",
      "1294         0.00             2.2  3.40       0.58     10.9\n",
      "860          0.14             2.4  3.66       0.65      9.8\n",
      "3174         0.39             3.2  3.37       0.71     11.5\n",
      "\n",
      "[2558 rows x 5 columns]\n",
      "3034    0\n",
      "2576    0\n",
      "533     1\n",
      "1061    1\n",
      "2626    0\n",
      "       ..\n",
      "1095    0\n",
      "1130    0\n",
      "1294    1\n",
      "860     1\n",
      "3174    1\n",
      "Name: type, Length: 2558, dtype: int64\n",
      "\n",
      "Validation data:\n",
      "      citric acid  residual sugar    pH  sulphates  alcohol\n",
      "2440         0.59             2.2  3.20       0.78      9.6\n",
      "354          0.27             4.7  3.16       0.42     12.5\n",
      "601          0.00             1.2  3.32       0.51      9.8\n",
      "1159         0.43             2.2  3.16       0.67     10.8\n",
      "1465         0.02             2.1  3.38       0.69      9.5\n",
      "...           ...             ...   ...        ...      ...\n",
      "561          0.07             1.4  3.32       0.81      9.6\n",
      "282          0.49             2.4  3.14       0.61     10.4\n",
      "2118         0.32            12.9  3.30       0.56     11.5\n",
      "2643         0.21             1.5  3.16       0.54      9.8\n",
      "801          0.24             1.7  3.29       0.67     10.0\n",
      "\n",
      "[640 rows x 5 columns]\n",
      "2440    1\n",
      "354     0\n",
      "601     1\n",
      "1159    1\n",
      "1465    1\n",
      "       ..\n",
      "561     1\n",
      "282     1\n",
      "2118    1\n",
      "2643    1\n",
      "801     1\n",
      "Name: type, Length: 640, dtype: int64\n"
     ]
    }
   ],
   "source": [
    "X_train, X_val, y_train, y_val = split_dataset(\n",
    "    X, y, test_size=0.2, random_state=42\n",
    ")\n",
    "\n",
    "print(\"Training data:\")\n",
    "print(X_train)\n",
    "print(y_train)\n",
    "\n",
    "print(\"\\nValidation data:\")\n",
    "print(X_val)\n",
    "print(y_val)\n"
   ],
   "metadata": {
    "collapsed": false,
    "ExecuteTime": {
     "end_time": "2023-09-17T13:47:44.519654Z",
     "start_time": "2023-09-17T13:47:44.487219Z"
    }
   },
   "id": "20ee0c755692f9fa"
  },
  {
   "cell_type": "code",
   "execution_count": 106,
   "outputs": [],
   "source": [
    "learn(X, y, 'entropy')"
   ],
   "metadata": {
    "collapsed": false,
    "ExecuteTime": {
     "end_time": "2023-09-17T13:47:44.520153Z",
     "start_time": "2023-09-17T13:47:44.495974Z"
    }
   },
   "id": "10fe4b1db369b66e"
  }
 ],
 "metadata": {
  "kernelspec": {
   "display_name": "Python 3",
   "language": "python",
   "name": "python3"
  },
  "language_info": {
   "codemirror_mode": {
    "name": "ipython",
    "version": 2
   },
   "file_extension": ".py",
   "mimetype": "text/x-python",
   "name": "python",
   "nbconvert_exporter": "python",
   "pygments_lexer": "ipython2",
   "version": "2.7.6"
  }
 },
 "nbformat": 4,
 "nbformat_minor": 5
}
